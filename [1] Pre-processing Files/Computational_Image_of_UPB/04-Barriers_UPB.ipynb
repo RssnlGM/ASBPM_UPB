{
 "cells": [
  {
   "cell_type": "code",
   "execution_count": 1,
   "metadata": {},
   "outputs": [],
   "source": [
    "import pandas as pd\n",
    "import geopandas as gpd\n",
    "%matplotlib inline\n",
    "\n",
    "import warnings\n",
    "warnings.simplefilter(action=\"ignore\")\n",
    "\n",
    "import cityImage as ci"
   ]
  },
  {
   "cell_type": "code",
   "execution_count": 2,
   "metadata": {},
   "outputs": [],
   "source": [
    "# initialise path, names, etc.\n",
    "city_name = 'UPB'\n",
    "epsg = 4326\n",
    "crs = 'EPSG:'+str(epsg)"
   ]
  },
  {
   "cell_type": "markdown",
   "metadata": {},
   "source": [
    "### Download the network\n",
    "\n",
    "Choose between the following methods:\n",
    "* `OSMplace`, provide an OSM place name (e.g. City).\n",
    "* `polygon`, provide an WGS polygon of the case-study area.\n",
    "* `distance_from_address`, provide a precise address and define parameter `distance` (which is otherwise not necessary)"
   ]
  },
  {
   "cell_type": "code",
   "execution_count": 3,
   "metadata": {},
   "outputs": [],
   "source": [
    "# download graph and clean (see network notebook for details on the cleaning process)\n",
    "\n",
    "#place = 'University of the Philippines Baguio, Baguio City, Philippines'\n",
    "#download_method = 'distance_from_address'\n",
    "#distance = 500\n",
    "#nodes_graph, edges_graph = ci.get_network_fromOSM(place, download_method, 'walk', epsg, distance = distance)\n",
    "#nodes_graph, edges_graph = ci.clean_network(nodes_graph, edges_graph, dead_ends = True, remove_disconnected_islands = True,\n",
    "#                            self_loops = True, same_uv_edges = True)"
   ]
  },
  {
   "cell_type": "markdown",
   "metadata": {},
   "source": [
    "### Load from local path"
   ]
  },
  {
   "cell_type": "code",
   "execution_count": 4,
   "metadata": {},
   "outputs": [],
   "source": [
    "loading_path = 'Outputs/'+city_name+'/'\n",
    "nodes_graph = gpd.read_file(loading_path+'nodes.shp')\n",
    "edges_graph = gpd.read_file(loading_path+'edges.shp')\n",
    "barriers = gpd.read_file(loading_path+city_name+'_barriers.shp')\n",
    "try:\n",
    "    nodes_graph, edges_graph = nodes_graph.to_crs(epsg=epsg), edges_graph.to_crs(epsg=epsg)\n",
    "except:\n",
    "    nodes_graph.crs, edges_graph.crs = crs, crs\n",
    "\n",
    "nodes_graph.index, edges_graph.index  = nodes_graph.nodeID, edges_graph.edgeID\n",
    "nodes_graph.index.name, edges_graph.index.name  = None, None"
   ]
  },
  {
   "cell_type": "code",
   "execution_count": 5,
   "metadata": {},
   "outputs": [],
   "source": [
    "#fig = ci.plot_gdf(edges_graph, scheme = None, black_background = False, figsize = 15, alpha = 1.0, color = 'black',\n",
    "#            title = city_name+': Street Network')"
   ]
  },
  {
   "cell_type": "markdown",
   "metadata": {},
   "source": [
    "## Barriers identification"
   ]
  },
  {
   "cell_type": "markdown",
   "metadata": {},
   "source": [
    "Choose between the following methods:\n",
    "* *OSMplace*, provide an OSM place name (e.g. City).\n",
    "* *distance_from_address*, provide a precise address and define parameter \"distance\" (which is otherwise not necessary)\n",
    "* *polygon*, provide a Polygon (coordinates must be in units of latitude-longitude degrees)."
   ]
  },
  {
   "cell_type": "code",
   "execution_count": 6,
   "metadata": {},
   "outputs": [],
   "source": [
    "# define method and create envelope with wgs coordinate system\n",
    "download_method = 'polygon'\n",
    "place = ci.envelope_wgs(edges_graph)\n",
    "distance = None"
   ]
  },
  {
   "cell_type": "code",
   "execution_count": 7,
   "metadata": {},
   "outputs": [],
   "source": [
    "road_barriers = gpd.GeoDataFrame()\n",
    "secondary_road = gpd.GeoDataFrame() # optional - only in relation to walkability\n",
    "water_barriers = gpd.GeoDataFrame()\n",
    "railway_barriers = gpd.GeoDataFrame()\n",
    "park_barriers = gpd.GeoDataFrame()"
   ]
  },
  {
   "cell_type": "code",
   "execution_count": 8,
   "metadata": {},
   "outputs": [],
   "source": [
    "#barriers = road_barriers.append(secondary_road)\n",
    "#barriers = water_barriers.append(barriers)\n",
    "#barriers = railway_barriers.append(barriers)\n",
    "#barriers = park_barriers.append(barriers)\n",
    "barriers.reset_index(inplace = True, drop = True)\n",
    "barriers['barrierID'] = barriers.index.astype(int)\n",
    "\n",
    "envelope = edges_graph.unary_union.envelope\n",
    "barriers_within = barriers[barriers.intersects(envelope)]"
   ]
  },
  {
   "cell_type": "markdown",
   "metadata": {},
   "source": [
    "### Visualisation"
   ]
  },
  {
   "cell_type": "code",
   "execution_count": 9,
   "metadata": {},
   "outputs": [],
   "source": [
    "#fig = ci.plot_barriers(barriers_within, black_background = False, fig_size = 15, title = city_name+': Barriers', legend = True)"
   ]
  },
  {
   "cell_type": "code",
   "execution_count": 10,
   "metadata": {},
   "outputs": [],
   "source": [
    "# save barriers_gdf\n",
    "saving_path = 'Outputs/'+city_name+'/'\n",
    "barriers.to_file(saving_path+\"barriers.shp\", driver='ESRI Shapefile')"
   ]
  },
  {
   "cell_type": "markdown",
   "metadata": {},
   "source": [
    "### Assigning barriers to street segments"
   ]
  },
  {
   "cell_type": "markdown",
   "metadata": {},
   "source": [
    "### Type of barriers\n",
    "\n",
    "Choose between the following methods:\n",
    "* *Positive barriers* - pedestrian perspective: Waterbodies, Parks.\n",
    "* *Negative barriers* - pedestrian perspective: Major Roads, Railway Structures.\n",
    "* *Structuring barriers* - barriers which structure and shape the image of the city: Waterbodies, Major roads, Railways."
   ]
  },
  {
   "cell_type": "code",
   "execution_count": 11,
   "metadata": {},
   "outputs": [],
   "source": [
    "sindex = edges_graph.sindex\n",
    "\n",
    "# along and within POSITIVE BARRIERS\n",
    "# rivers\n",
    "edges_graph = ci.along_water(edges_graph, barriers_within)\n",
    "# parks\n",
    "#edges_graph = ci.along_within_parks(edges_graph, barriers_within)\n",
    "\n",
    "edges_graph = edges_graph.assign(a_rivers='[]').astype({'a_rivers': str})\n",
    "edges_graph = edges_graph.assign(w_parks='[]').astype({'w_parks': str})\n",
    "\n",
    "# altogheter\n",
    "edges_graph['p_barr'] = edges_graph['a_rivers']+edges_graph['w_parks']\n",
    "#edges_graph['p_barr'] = edges_graph.apply(lambda row: list(set(row['p_barr'])), axis = 1)\n",
    "\n",
    "#edges_graph = gpd.GeoDataFrame(columns=['p_barr', 'n_barr', 'a_rivers', 'w_parks'])\n",
    "# along NEGATIVE BARRIERS                                    \n",
    "tmp = barriers_within[barriers_within['type'].isin(['railway', 'road', 'secondary_road'])]\n",
    "edges_graph['n_barr'] = edges_graph.apply(lambda row: ci.barriers_along(row['edgeID'], edges_graph, tmp, sindex,\n",
    "                                           offset = 25), axis = 1)\n",
    "\n",
    "# crossing any kind of barrier but parks - STRUCTURING BARRIERS\n",
    "edges_graph = ci.assign_structuring_barriers(edges_graph, barriers_within)"
   ]
  },
  {
   "cell_type": "markdown",
   "metadata": {},
   "source": [
    "## Visualisation"
   ]
  },
  {
   "cell_type": "code",
   "execution_count": 12,
   "metadata": {},
   "outputs": [],
   "source": [
    "# positive barriers\n",
    "edges_graph = edges_graph.assign(p_bool=0).astype({'p_bool': int})\n",
    "edges_graph['p_bool'] = edges_graph.apply(lambda row: True if len(row['p_barr']) > 0 else False, axis = 1)\n",
    "tmp = edges_graph[edges_graph.p_bool == True].copy()\n",
    "#fig = ci.plot_gdf(tmp, black_background = False, figsize = 15, color = 'red', title = city_name+': Streets along parks and rivers', \n",
    "#              legend = False, base_map_gdf = edges_graph, base_map_alpha = 0.3, base_map_color = 'black')"
   ]
  },
  {
   "cell_type": "code",
   "execution_count": 13,
   "metadata": {},
   "outputs": [],
   "source": [
    "# negative barriers\n",
    "edges_graph = edges_graph.assign(n_bool=0).astype({'n_bool': int})\n",
    "edges_graph['n_bool'] = edges_graph.apply(lambda row: True if len(row['n_barr']) > 0 else False, axis = 1)\n",
    "tmp = edges_graph[edges_graph.n_bool == True].copy()\n",
    "#fig = ci.plot_gdf(tmp, black_background = False, figsize = 15, color = 'red', title = city_name+': Streets along negative barriers',\n",
    "#              legend = False, base_map_gdf = edges_graph, base_map_alpha = 0.3, base_map_color = 'black')"
   ]
  },
  {
   "cell_type": "markdown",
   "metadata": {},
   "source": [
    "### Save "
   ]
  },
  {
   "cell_type": "code",
   "execution_count": 14,
   "metadata": {},
   "outputs": [],
   "source": [
    "# convertin list fields to string\n",
    "#to_convert = ['a_rivers', 'w_parks','n_barr', 'p_barr']\n",
    "edges_graph_string = edges_graph.copy()\n",
    "#for column in to_convert: \n",
    "#    edges_graph_string[column] = edges_graph_string[column].astype(str)\n",
    "\n",
    "saving_path = 'Outputs/'+city_name+'/'\n",
    "edges_graph_string.to_file(saving_path+\"edges.shp\", driver='ESRI Shapefile')\n",
    "nodes_graph.to_file(saving_path+'nodes.shp', driver='ESRI Shapefile')"
   ]
  }
 ],
 "metadata": {
  "kernelspec": {
   "display_name": "Python 3 (ipykernel)",
   "language": "python",
   "name": "python3"
  },
  "language_info": {
   "codemirror_mode": {
    "name": "ipython",
    "version": 3
   },
   "file_extension": ".py",
   "mimetype": "text/x-python",
   "name": "python",
   "nbconvert_exporter": "python",
   "pygments_lexer": "ipython3",
   "version": "3.10.13"
  }
 },
 "nbformat": 4,
 "nbformat_minor": 4
}
