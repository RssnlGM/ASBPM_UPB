{
 "cells": [
  {
   "cell_type": "code",
   "execution_count": 1,
   "metadata": {},
   "outputs": [],
   "source": [
    "import pandas as pd, numpy as np, seaborn as sns, geopandas as gpd, matplotlib.pyplot as plt\n",
    "from scipy.stats import f_oneway\n",
    "import pingouin as pin\n",
    "import matplotlib\n",
    "\n",
    "from shapely.geometry import Point, mapping\n",
    "%matplotlib inline\n",
    "\n",
    "import warnings\n",
    "warnings.simplefilter(action=\"ignore\")\n",
    "\n",
    "pd.set_option(\"display.precision\", 2)\n",
    "pd.options.display.float_format = '{:20.2f}'.format\n",
    "pd.set_option('display.float_format', lambda x: '%.3f' % x)\n",
    "pd.options.mode.chained_assignment = None\n",
    "\n",
    "import cityImage as ci, ABManalysis as af\n",
    "\n",
    "#libraries for clustering\n",
    "from sklearn.cluster import KMeans, AgglomerativeClustering\n",
    "from sklearn.metrics import silhouette_samples, silhouette_score\n",
    "\n",
    "import os\n",
    "\n",
    "import fastkde"
   ]
  },
  {
   "cell_type": "markdown",
   "metadata": {},
   "source": [
    "### Preparing and cleaning the routes"
   ]
  },
  {
   "cell_type": "markdown",
   "metadata": {},
   "source": [
    "### Coordinate System of the case study area for cartographic visualisations"
   ]
  },
  {
   "cell_type": "code",
   "execution_count": 2,
   "metadata": {},
   "outputs": [
    {
     "name": "stdout",
     "output_type": "stream",
     "text": [
      "C:\\Users\\RNGM\\PedSimCity-EvaluationP2\n"
     ]
    }
   ],
   "source": [
    "print(os.getcwd())\n",
    "city_name = 'UPB'\n",
    "epsg = 4326\n",
    "crs = 'EPSG:'+str(epsg)"
   ]
  },
  {
   "cell_type": "markdown",
   "metadata": {},
   "source": [
    "# Questionnaire\n",
    "## 1. Pre-processing"
   ]
  },
  {
   "cell_type": "code",
   "execution_count": 3,
   "metadata": {
    "scrolled": true
   },
   "outputs": [
    {
     "name": "stdout",
     "output_type": "stream",
     "text": [
      "Number of total participants: 71\n"
     ]
    }
   ],
   "source": [
    "raw = pd.read_csv(r\"C:\\Users\\RNGM\\PedSimCity-EvaluationP2\\Input\\empiricalABM\\UPB_responses_matrix_71.csv\") # raw responses\n",
    "raw['startdate'] = raw.apply(lambda row: row['startdate'][11:], axis = 1)\n",
    "raw['datestamp'] = raw.apply(lambda row: row['datestamp'][11:], axis = 1)\n",
    "raw['duration'] = raw.apply(lambda row: af.compute_duration(row['startdate'], row['datestamp']), axis = 1)    \n",
    "raw['PD2'] = raw['PD2'].fillna(raw['PD2'].mean())\n",
    "raw['age'] = raw['PD2'].astype(int)\n",
    "print('Number of total participants:', str(len(raw)))"
   ]
  },
  {
   "cell_type": "markdown",
   "metadata": {},
   "source": [
    "### 1.1 Disregard subjects who took less than n minutes to complete the study (Not yet needed.)"
   ]
  },
  {
   "cell_type": "code",
   "execution_count": 4,
   "metadata": {},
   "outputs": [
    {
     "name": "stdout",
     "output_type": "stream",
     "text": [
      "Number of participants whose record was not disregarded  68\n"
     ]
    }
   ],
   "source": [
    "# cleaning\n",
    "raw = raw[raw['duration']>= 1].copy()\n",
    "print('Number of participants whose record was not disregarded ', str(len(raw)))\n",
    "limit = {'A1':18, 'A2':25, 'A3':33, 'A4':41, 'A5':49, 'A6':57, 'A7':65, 'A8':73, 'A9':150}\n",
    "# print(\"age issue\", len(raw[~raw.FQ1.isnull()][['PD2', 'FQ1', 'limit']][raw.age > raw.limit]) + \n",
    "#       len(raw[~raw.FQ1.isnull()][['PD2', 'FQ1', 'limit']][raw.age < raw.limit-7]))"
   ]
  },
  {
   "cell_type": "code",
   "execution_count": 5,
   "metadata": {},
   "outputs": [],
   "source": [
    "raw.rename(columns={\"PD1\": \"sex\"}, inplace = True)\n",
    "values = ['A1', 'A2', 'A3', 'A4']\n",
    "new_values = [\"male\", \"female\", \"non-binary\", \"prefer not to\"]\n",
    "for n, value in enumerate(values):\n",
    "    raw['sex'].replace(value, new_values[n], inplace = True)"
   ]
  },
  {
   "cell_type": "markdown",
   "metadata": {},
   "source": [
    "### 1.1 Disregarding subjects who always chose the same response when asked how to proceed along the route"
   ]
  },
  {
   "cell_type": "code",
   "execution_count": 6,
   "metadata": {},
   "outputs": [],
   "source": [
    "def check(index):\n",
    "    response = list(raw[to_check].loc[index][raw[to_check].loc[index].notna()])\n",
    "    percentageA1 = response.count(\"A1\")/len(response)\n",
    "    percentageA2 = response.count(\"A2\")/len(response)\n",
    "    if ((percentageA1 > 0.65) | (percentageA2 > 0.65)) & (raw.loc[index].duration < 30):\n",
    "        return True\n",
    "    return False\n",
    "\n",
    "# checking videos\n",
    "video_columns = [col for col in raw if col.startswith('VD')]\n",
    "to_remove = ['VD000a','VD000','VD001[SQ001]', 'VD002a', 'VD002', 'VD003[SQ001]','VD004a','VD004', 'VD005[SQ001]']\n",
    "#to_check = [item for item in video_columns if item not in to_remove]\n",
    "to_check = [item for item in video_columns]\n",
    "raw['allSame'] = raw.apply(lambda row: check(row.name), axis = 1)"
   ]
  },
  {
   "cell_type": "markdown",
   "metadata": {},
   "source": [
    "## 2. Demographic information"
   ]
  },
  {
   "cell_type": "markdown",
   "metadata": {},
   "source": [
    "### 2.1 General information"
   ]
  },
  {
   "cell_type": "code",
   "execution_count": 7,
   "metadata": {},
   "outputs": [
    {
     "name": "stdout",
     "output_type": "stream",
     "text": [
      "Number of female participants: 28, 41.2%\n",
      "Number of male participants: 35, 51.5%\n",
      "Number of non-binary participants: 1, 1.5%\n",
      "Number of participants who preferred not to declare their gender: 4, 5.9%\n",
      "\n",
      "Particpants' mean age: 21.235\n",
      "Particpants' std age: 1.594\n",
      "\n",
      "Mean duration: 8.12 minutes\n"
     ]
    }
   ],
   "source": [
    "nr = 'Number'\n",
    "pr = 'participants'\n",
    "\n",
    "N = len(raw)\n",
    "print(nr+' of female '+pr +': '+str(len(raw[raw.sex == 'female']))+', '+str(round(len(raw[raw.sex == 'female'])/N*100,1))+'%')\n",
    "print(nr+' of male '+pr +': '+str( len(raw[raw.sex == 'male']))+', '+str(round(len(raw[raw.sex == 'male'])/N*100,1))+'%')\n",
    "print(nr+' of non-binary '+pr +': '+str(len(raw[raw.sex == 'non-binary']))+', '+str(round(len(raw[raw.sex == 'non-binary'])/N*100, 1))+'%')\n",
    "print(nr+' of '+pr+' who preferred not to declare their gender: '+str(len(raw[raw.sex == 'prefer not to']))+', '+\n",
    "      str(round(len(raw[raw.sex == 'prefer not to'])/N*100, 1))+'%')\n",
    "print()\n",
    "print(\"Particpants' mean age:\", round(raw['age'].mean(),3))\n",
    "print(\"Particpants' std age:\", round(raw['age'].std(), 3))\n",
    "print()\n",
    "print('Mean duration:', str(round(raw.duration.mean(), 2))+\" minutes\")"
   ]
  },
  {
   "cell_type": "markdown",
   "metadata": {},
   "source": [
    "### 2.2 Age categories"
   ]
  },
  {
   "cell_type": "code",
   "execution_count": 8,
   "metadata": {},
   "outputs": [
    {
     "name": "stdout",
     "output_type": "stream",
     "text": [
      "Number of participants per age group\n",
      "\n",
      "< 18: 0, 0.0%\n",
      "18 - 25: 67, 98.5%\n",
      "26 - 33: 1, 1.5%\n",
      "34 - 41: 0, 0.0%\n",
      "42 - 49: 0, 0.0%\n",
      "50 - 57: 0, 0.0%\n",
      "58 - 65: 0, 0.0%\n",
      "66 - 73: 0, 0.0%\n",
      "> 74:0, 0.0%\n"
     ]
    }
   ],
   "source": [
    "Ga = len(raw[raw.age < 18])\n",
    "Gb = len(raw[(raw.age >= 18) & (raw.age <= 25)])\n",
    "Gc = len(raw[(raw.age >= 26) & (raw.age <= 33)])\n",
    "Gd = len(raw[(raw.age >= 34) & (raw.age <= 41)])\n",
    "Ge = len(raw[(raw.age >= 42) & (raw.age <= 49)])\n",
    "Gf = len(raw[(raw.age >= 50) & (raw.age <= 57)])\n",
    "Gg = len(raw[(raw.age >= 58) & (raw.age <= 65)])\n",
    "Gh = len(raw[(raw.age >= 66) & (raw.age <= 73)])\n",
    "Gi = len(raw[(raw.age >= 74)])\n",
    "\n",
    "print(\"Number of participants per age group\")\n",
    "print()\n",
    "print('< 18: '+str(Ga)+', '+str(round(Ga/N*100, 1))+ '%')\n",
    "print('18 - 25: '+str(Gb)+', '+str(round(Gb/N*100, 1))+ '%')\n",
    "print('26 - 33: '+str(Gc)+', '+str(round(Gc/N*100, 1))+ '%')\n",
    "print('34 - 41: '+str(Gd)+', '+str(round(Gd/N*100, 1))+ '%')\n",
    "print('42 - 49: '+str(Ge)+', '+str(round(Ge/N*100, 1))+ '%')\n",
    "print('50 - 57: '+str(Gf)+', '+str(round(Gf/N*100, 1))+ '%')\n",
    "print('58 - 65: '+str(Gg)+', '+str(round(Gg/N*100, 1))+ '%')\n",
    "print('66 - 73: '+str(Gh)+', '+str(round(Gh/N*100, 1))+ '%')\n",
    "print('> 74:'+str(Gi)+', '+str(round(Gi/N*100, 1))+ '%')"
   ]
  },
  {
   "cell_type": "markdown",
   "metadata": {},
   "source": [
    "### 2.3 Links or relationship to the case-study area (UPB)"
   ]
  },
  {
   "cell_type": "code",
   "execution_count": 9,
   "metadata": {},
   "outputs": [
    {
     "name": "stdout",
     "output_type": "stream",
     "text": [
      "Number of participants who Study in UPB: 68, 100.0%\n",
      "Number of participants who Work in UPB: 3, 4.4%\n",
      "Number of participants who Occasionally visit UPB: 1, 1.5%\n"
     ]
    }
   ],
   "source": [
    "Ga = len(raw[~raw['PD3[SQ001]'].isnull()])\n",
    "Gb = len(raw[~raw['PD3[SQ002]'].isnull()])\n",
    "Gc = len(raw[~raw['PD3[SQ003]'].isnull()])\n",
    "\n",
    "nr = \"Number of participants who \"\n",
    "\n",
    "print(nr+'Study in UPB: '+str(Ga)+', '+str(round(Ga/N*100,1))+ '%')\n",
    "print(nr+'Work in UPB: '+str(Gb)+', '+str(round(Gb/N*100,1))+ '%')\n",
    "print(nr+'Occasionally visit UPB: '+str(Gc)+', '+str(round(Gc/N*100,1))+ '%')"
   ]
  },
  {
   "cell_type": "markdown",
   "metadata": {},
   "source": [
    "### 2.4 Reasons for walking"
   ]
  },
  {
   "cell_type": "code",
   "execution_count": 10,
   "metadata": {},
   "outputs": [
    {
     "name": "stdout",
     "output_type": "stream",
     "text": [
      "Commuting to/from work: 2.216\n",
      "percentage:  44.314%\n",
      "\n",
      "Commuting to/from university: 4.517\n",
      "percentage:  90.345%\n"
     ]
    }
   ],
   "source": [
    "columns = ['WB2[SQ001]', 'WB2[SQ002]']\n",
    "labels = ['Commuting to/from work', 'Commuting to/from university']\n",
    "\n",
    "#'WB2[SQ003]','WB2[SQ004]','WB2[SQ005]'\n",
    "#'For social activities', For exercise or free-time activities', 'For other daily errands and commitments'\n",
    "          \n",
    "for column in columns: \n",
    "    raw[column].replace('A1', 1, inplace = True)\n",
    "    raw[column].replace('A2', 2, inplace = True)\n",
    "    raw[column].replace('A3', 3, inplace = True)\n",
    "    raw[column].replace('A4', 4, inplace = True)\n",
    "    raw[column].replace('A5', 5, inplace = True)\n",
    "\n",
    "total_prob = 0.0\n",
    "for n, column in enumerate(columns):\n",
    "    prob = round(raw[column].mean(),3)\n",
    "    total_prob += prob\n",
    "    print(labels[n]+':', str(round(raw[column].mean(),3))) # value on the Likert scale\n",
    "    print(\"percentage: \", str(round(raw[column].mean()*100/5,3))+'%')\n",
    "    if n < len(columns)-1: \n",
    "        print()"
   ]
  },
  {
   "cell_type": "markdown",
   "metadata": {},
   "source": [
    "#### *Reasons for Walking: Transformation into probabilities*"
   ]
  },
  {
   "cell_type": "code",
   "execution_count": 11,
   "metadata": {},
   "outputs": [
    {
     "name": "stdout",
     "output_type": "stream",
     "text": [
      "Commuting to/from work: 0.33\n",
      "Commuting to/from university: 0.67\n"
     ]
    }
   ],
   "source": [
    "for n, column in enumerate(columns):\n",
    "    actual_prob = round(raw[column].mean()/total_prob,2)\n",
    "    print(str(labels[n]) + ': '+str(actual_prob))"
   ]
  },
  {
   "cell_type": "markdown",
   "metadata": {},
   "source": [
    "## 3. Familiriaty, spatial knowledge and preferences\n",
    "### 3.1 Time spent living in the case-study area (*familiarity*) (SKIP)"
   ]
  },
  {
   "cell_type": "code",
   "execution_count": 12,
   "metadata": {},
   "outputs": [],
   "source": [
    "#raw[['PD4[SQ001]', 'PD4[SQ002]']] = raw[['PD4[SQ001]', 'PD4[SQ002]']].fillna(0.0)\n",
    "#raw['PD4[SQ002]'].replace(1984.0, 2021-1984, inplace = True)\n",
    "#raw['familiarity'] = raw['PD4[SQ001]']/12 + raw['PD4[SQ002]']\n",
    "#raw['familiarity'].plot.kde()"
   ]
  },
  {
   "cell_type": "markdown",
   "metadata": {},
   "source": [
    "### 3.2 Self-reported spatial knowledge"
   ]
  },
  {
   "cell_type": "code",
   "execution_count": 13,
   "metadata": {},
   "outputs": [
    {
     "name": "stdout",
     "output_type": "stream",
     "text": [
      "0    0.000\n",
      "1    0.000\n",
      "2    0.000\n",
      "3    4.500\n",
      "4    4.250\n",
      "      ... \n",
      "63   4.000\n",
      "64   3.250\n",
      "65   4.500\n",
      "66   0.000\n",
      "68   3.000\n",
      "Name: knowledge, Length: 68, dtype: float64\n"
     ]
    },
    {
     "data": {
      "text/plain": [
       "<AxesSubplot: ylabel='Density'>"
      ]
     },
     "execution_count": 13,
     "metadata": {},
     "output_type": "execute_result"
    },
    {
     "data": {
      "image/png": "[encoded data removed]",
      "text/plain": [
       "<Figure size 640x480 with 1 Axes>"
      ]
     },
     "metadata": {},
     "output_type": "display_data"
    }
   ],
   "source": [
    "columns = ['WB4[SQ001]', 'WB4[SQ002]','WB4[SQ003]','WB4[SQ004]']\n",
    "for column in columns: \n",
    "    raw[column].replace('A1', 1, inplace = True)\n",
    "    raw[column].replace('A2', 2, inplace = True)\n",
    "    raw[column].replace('A3', 3, inplace = True)\n",
    "    raw[column].replace('A4', 4, inplace = True)\n",
    "    raw[column].replace('A5', 5, inplace = True)\n",
    "raw['knowledge'] = (raw['WB4[SQ001]'] + raw['WB4[SQ002]'] + raw['WB4[SQ003]'] +raw['WB4[SQ004]'])/4\n",
    "raw['knowledge'] = raw['knowledge'].fillna(0.00)\n",
    "print(raw['knowledge'])\n",
    "raw['knowledge'].plot.kde()"
   ]
  },
  {
   "cell_type": "code",
   "execution_count": 14,
   "metadata": {},
   "outputs": [
    {
     "data": {
      "text/html": [
       "<div>\n",
       "<style scoped>\n",
       "    .dataframe tbody tr th:only-of-type {\n",
       "        vertical-align: middle;\n",
       "    }\n",
       "\n",
       "    .dataframe tbody tr th {\n",
       "        vertical-align: top;\n",
       "    }\n",
       "\n",
       "    .dataframe thead th {\n",
       "        text-align: right;\n",
       "    }\n",
       "</style>\n",
       "<table border=\"1\" class=\"dataframe\">\n",
       "  <thead>\n",
       "    <tr style=\"text-align: right;\">\n",
       "      <th></th>\n",
       "      <th>WB4[SQ001]</th>\n",
       "      <th>WB4[SQ002]</th>\n",
       "      <th>WB4[SQ003]</th>\n",
       "      <th>WB4[SQ004]</th>\n",
       "      <th>knowledge</th>\n",
       "    </tr>\n",
       "  </thead>\n",
       "  <tbody>\n",
       "    <tr>\n",
       "      <th>WB4[SQ001]</th>\n",
       "      <td>1.000</td>\n",
       "      <td>0.658</td>\n",
       "      <td>0.088</td>\n",
       "      <td>0.173</td>\n",
       "      <td>0.491</td>\n",
       "    </tr>\n",
       "    <tr>\n",
       "      <th>WB4[SQ002]</th>\n",
       "      <td>0.658</td>\n",
       "      <td>1.000</td>\n",
       "      <td>0.293</td>\n",
       "      <td>0.353</td>\n",
       "      <td>0.826</td>\n",
       "    </tr>\n",
       "    <tr>\n",
       "      <th>WB4[SQ003]</th>\n",
       "      <td>0.088</td>\n",
       "      <td>0.293</td>\n",
       "      <td>1.000</td>\n",
       "      <td>0.548</td>\n",
       "      <td>0.286</td>\n",
       "    </tr>\n",
       "    <tr>\n",
       "      <th>WB4[SQ004]</th>\n",
       "      <td>0.173</td>\n",
       "      <td>0.353</td>\n",
       "      <td>0.548</td>\n",
       "      <td>1.000</td>\n",
       "      <td>0.604</td>\n",
       "    </tr>\n",
       "    <tr>\n",
       "      <th>knowledge</th>\n",
       "      <td>0.491</td>\n",
       "      <td>0.826</td>\n",
       "      <td>0.286</td>\n",
       "      <td>0.604</td>\n",
       "      <td>1.000</td>\n",
       "    </tr>\n",
       "  </tbody>\n",
       "</table>\n",
       "</div>"
      ],
      "text/plain": [
       "            WB4[SQ001]  WB4[SQ002]  WB4[SQ003]  WB4[SQ004]  knowledge\n",
       "WB4[SQ001]       1.000       0.658       0.088       0.173      0.491\n",
       "WB4[SQ002]       0.658       1.000       0.293       0.353      0.826\n",
       "WB4[SQ003]       0.088       0.293       1.000       0.548      0.286\n",
       "WB4[SQ004]       0.173       0.353       0.548       1.000      0.604\n",
       "knowledge        0.491       0.826       0.286       0.604      1.000"
      ]
     },
     "execution_count": 14,
     "metadata": {},
     "output_type": "execute_result"
    }
   ],
   "source": [
    "columns = ['WB4[SQ001]', 'WB4[SQ002]','WB4[SQ003]','WB4[SQ004]', 'knowledge']\n",
    "raw[columns].corr(method='pearson')"
   ]
  },
  {
   "cell_type": "markdown",
   "metadata": {},
   "source": [
    "### 3.3 Preference for and aversion to barriers (SKIP)"
   ]
  },
  {
   "cell_type": "code",
   "execution_count": 15,
   "metadata": {},
   "outputs": [],
   "source": [
    "columns = ['SP4[SQ004]', 'SP4[SQ005]','SP4[SQ007]']\n",
    "for column in columns: \n",
    "    raw[column].replace('A1', 0.00, inplace = True)\n",
    "    raw[column].replace('A2', 0.25, inplace = True)\n",
    "    raw[column].replace('A3', 0.50, inplace = True)\n",
    "    raw[column].replace('A4', 0.75, inplace = True)\n",
    "    raw[column].replace('A5', 1.00, inplace = True)\n",
    "\n",
    "raw['preferenceNatural'] = raw['SP4[SQ004]'] ## preference for Natural Barriers\n",
    "raw['preferenceNatural'] = raw['preferenceNatural'].fillna(0.00)\n",
    "raw['aversionSevering'] = (raw['SP4[SQ005]'] + raw['SP4[SQ007]'])/2 ## Aversion to Severing Barriers\n",
    "raw['aversionSevering'] = raw['aversionSevering'].fillna(0.00)"
   ]
  },
  {
   "cell_type": "markdown",
   "metadata": {},
   "source": [
    "## 4. Video Tasks: route choice behaviour variables\n",
    "#### *Preliminary columns cleaning*"
   ]
  },
  {
   "cell_type": "code",
   "execution_count": 16,
   "metadata": {},
   "outputs": [],
   "source": [
    "video_columns = [col for col in raw if col.startswith('VD')]\n",
    "to_remove = ['VD000a', 'VD100a','VD200a']\n",
    "\n",
    "columns = ['id'] + video_columns\n",
    "columns = [item for item in columns if item not in to_remove] # remove not necessary video columns\n",
    "responses = raw[columns].copy() # only response to the video taks"
   ]
  },
  {
   "cell_type": "code",
   "execution_count": 17,
   "metadata": {},
   "outputs": [],
   "source": [
    "# cleaning and rename columns and prepare a legible dataframe \n",
    "for column in responses.columns:\n",
    "    if column == 'id':\n",
    "        continue\n",
    "    responses.rename({column: column[2:]}, axis=1, inplace = True)\n",
    "    \n",
    "for column in responses.columns:\n",
    "    if column == 'id':\n",
    "        continue\n",
    "    if ('a' in column) | ('b' in column): \n",
    "        continue\n",
    "    new_column = '-'.join(column[i:i+3] for i in range(0, len(column), 3))\n",
    "    responses.rename({column: new_column}, axis=1, inplace = True)\n"
   ]
  },
  {
   "cell_type": "markdown",
   "metadata": {},
   "source": [
    "#### *Loading the routes used in the survey* "
   ]
  },
  {
   "cell_type": "code",
   "execution_count": 18,
   "metadata": {},
   "outputs": [],
   "source": [
    "survey_routes = gpd.read_file(\"Outputs/Routes_sections.shp\").to_crs(crs)\n",
    "summary = pd.DataFrame(columns = ['id']+list(survey_routes.video.unique()))\n",
    "\n",
    "summary = summary.reindex(sorted(summary.columns), axis=1)\n",
    "\n",
    "for row in responses.itertuples():\n",
    "    sectors = responses.loc[row.Index].notna().dot(responses.columns+',').rstrip(',')\n",
    "    sectors = sectors.replace('-', ',')\n",
    "    sectors_list = sectors.strip('').split(',')\n",
    "    for sector in sectors_list:\n",
    "        summary.at[row.Index, sector] = 1\n",
    "        summary.at[row.Index, 'id'] = responses.loc[row.Index].id\n",
    "        \n",
    "summary.fillna(0, inplace = True)\n",
    "for column in summary.columns: \n",
    "    summary.rename(columns={column: str(column)}, inplace = True)"
   ]
  },
  {
   "cell_type": "code",
   "execution_count": 19,
   "metadata": {},
   "outputs": [
    {
     "data": {
      "text/html": [
       "<div>\n",
       "<style scoped>\n",
       "    .dataframe tbody tr th:only-of-type {\n",
       "        vertical-align: middle;\n",
       "    }\n",
       "\n",
       "    .dataframe tbody tr th {\n",
       "        vertical-align: top;\n",
       "    }\n",
       "\n",
       "    .dataframe thead th {\n",
       "        text-align: right;\n",
       "    }\n",
       "</style>\n",
       "<table border=\"1\" class=\"dataframe\">\n",
       "  <thead>\n",
       "    <tr style=\"text-align: right;\">\n",
       "      <th></th>\n",
       "      <th>000</th>\n",
       "      <th>001</th>\n",
       "      <th>002</th>\n",
       "      <th>100</th>\n",
       "      <th>101</th>\n",
       "      <th>102</th>\n",
       "      <th>200</th>\n",
       "      <th>201</th>\n",
       "      <th>202</th>\n",
       "      <th>id</th>\n",
       "    </tr>\n",
       "  </thead>\n",
       "  <tbody>\n",
       "    <tr>\n",
       "      <th>0</th>\n",
       "      <td>1</td>\n",
       "      <td>1</td>\n",
       "      <td>0</td>\n",
       "      <td>1</td>\n",
       "      <td>1</td>\n",
       "      <td>0</td>\n",
       "      <td>1</td>\n",
       "      <td>1</td>\n",
       "      <td>0</td>\n",
       "      <td>1</td>\n",
       "    </tr>\n",
       "    <tr>\n",
       "      <th>1</th>\n",
       "      <td>1</td>\n",
       "      <td>1</td>\n",
       "      <td>0</td>\n",
       "      <td>1</td>\n",
       "      <td>1</td>\n",
       "      <td>0</td>\n",
       "      <td>1</td>\n",
       "      <td>1</td>\n",
       "      <td>0</td>\n",
       "      <td>2</td>\n",
       "    </tr>\n",
       "    <tr>\n",
       "      <th>2</th>\n",
       "      <td>1</td>\n",
       "      <td>1</td>\n",
       "      <td>0</td>\n",
       "      <td>1</td>\n",
       "      <td>1</td>\n",
       "      <td>0</td>\n",
       "      <td>1</td>\n",
       "      <td>1</td>\n",
       "      <td>0</td>\n",
       "      <td>3</td>\n",
       "    </tr>\n",
       "    <tr>\n",
       "      <th>3</th>\n",
       "      <td>1</td>\n",
       "      <td>0</td>\n",
       "      <td>0</td>\n",
       "      <td>1</td>\n",
       "      <td>0</td>\n",
       "      <td>0</td>\n",
       "      <td>1</td>\n",
       "      <td>1</td>\n",
       "      <td>1</td>\n",
       "      <td>4</td>\n",
       "    </tr>\n",
       "    <tr>\n",
       "      <th>4</th>\n",
       "      <td>1</td>\n",
       "      <td>1</td>\n",
       "      <td>1</td>\n",
       "      <td>1</td>\n",
       "      <td>1</td>\n",
       "      <td>0</td>\n",
       "      <td>1</td>\n",
       "      <td>1</td>\n",
       "      <td>1</td>\n",
       "      <td>5</td>\n",
       "    </tr>\n",
       "    <tr>\n",
       "      <th>...</th>\n",
       "      <td>...</td>\n",
       "      <td>...</td>\n",
       "      <td>...</td>\n",
       "      <td>...</td>\n",
       "      <td>...</td>\n",
       "      <td>...</td>\n",
       "      <td>...</td>\n",
       "      <td>...</td>\n",
       "      <td>...</td>\n",
       "      <td>...</td>\n",
       "    </tr>\n",
       "    <tr>\n",
       "      <th>63</th>\n",
       "      <td>1</td>\n",
       "      <td>1</td>\n",
       "      <td>0</td>\n",
       "      <td>1</td>\n",
       "      <td>1</td>\n",
       "      <td>0</td>\n",
       "      <td>1</td>\n",
       "      <td>1</td>\n",
       "      <td>0</td>\n",
       "      <td>64</td>\n",
       "    </tr>\n",
       "    <tr>\n",
       "      <th>64</th>\n",
       "      <td>1</td>\n",
       "      <td>1</td>\n",
       "      <td>0</td>\n",
       "      <td>1</td>\n",
       "      <td>1</td>\n",
       "      <td>0</td>\n",
       "      <td>1</td>\n",
       "      <td>1</td>\n",
       "      <td>0</td>\n",
       "      <td>65</td>\n",
       "    </tr>\n",
       "    <tr>\n",
       "      <th>65</th>\n",
       "      <td>1</td>\n",
       "      <td>1</td>\n",
       "      <td>0</td>\n",
       "      <td>1</td>\n",
       "      <td>1</td>\n",
       "      <td>0</td>\n",
       "      <td>1</td>\n",
       "      <td>1</td>\n",
       "      <td>0</td>\n",
       "      <td>66</td>\n",
       "    </tr>\n",
       "    <tr>\n",
       "      <th>66</th>\n",
       "      <td>1</td>\n",
       "      <td>1</td>\n",
       "      <td>0</td>\n",
       "      <td>1</td>\n",
       "      <td>1</td>\n",
       "      <td>0</td>\n",
       "      <td>1</td>\n",
       "      <td>1</td>\n",
       "      <td>0</td>\n",
       "      <td>67</td>\n",
       "    </tr>\n",
       "    <tr>\n",
       "      <th>68</th>\n",
       "      <td>1</td>\n",
       "      <td>1</td>\n",
       "      <td>1</td>\n",
       "      <td>1</td>\n",
       "      <td>1</td>\n",
       "      <td>0</td>\n",
       "      <td>1</td>\n",
       "      <td>1</td>\n",
       "      <td>1</td>\n",
       "      <td>69</td>\n",
       "    </tr>\n",
       "  </tbody>\n",
       "</table>\n",
       "<p>68 rows × 10 columns</p>\n",
       "</div>"
      ],
      "text/plain": [
       "    000  001  002  100  101  102  200  201  202  id\n",
       "0     1    1    0    1    1    0    1    1    0   1\n",
       "1     1    1    0    1    1    0    1    1    0   2\n",
       "2     1    1    0    1    1    0    1    1    0   3\n",
       "3     1    0    0    1    0    0    1    1    1   4\n",
       "4     1    1    1    1    1    0    1    1    1   5\n",
       "..  ...  ...  ...  ...  ...  ...  ...  ...  ...  ..\n",
       "63    1    1    0    1    1    0    1    1    0  64\n",
       "64    1    1    0    1    1    0    1    1    0  65\n",
       "65    1    1    0    1    1    0    1    1    0  66\n",
       "66    1    1    0    1    1    0    1    1    0  67\n",
       "68    1    1    1    1    1    0    1    1    1  69\n",
       "\n",
       "[68 rows x 10 columns]"
      ]
     },
     "execution_count": 19,
     "metadata": {},
     "output_type": "execute_result"
    }
   ],
   "source": [
    "summary.head(69)"
   ]
  },
  {
   "cell_type": "markdown",
   "metadata": {},
   "source": [
    "### 4.1 Obtaining the general statistics"
   ]
  },
  {
   "cell_type": "code",
   "execution_count": 20,
   "metadata": {},
   "outputs": [],
   "source": [
    "survey_routes['routeChoice'] = survey_routes.apply(lambda row: row['routeChoic'].replace(\" \",\"\"), axis = 1)\n",
    "survey_routes['routeChoice'] = survey_routes.apply(lambda row: row['routeChoice'].strip('][').split(','), axis = 1)\n",
    "survey_routes.drop('routeChoic', inplace = True, axis = 1)"
   ]
  },
  {
   "cell_type": "markdown",
   "metadata": {},
   "source": [
    "#### *Computing for each subject how much they resorted to certain urban elements or road costs*"
   ]
  },
  {
   "cell_type": "code",
   "execution_count": 21,
   "metadata": {},
   "outputs": [],
   "source": [
    "route_variables = ['usingElements','noElements', 'distanceHeuristic', 'routeMarks', 'barriers', 'preferenceNatural', 'aversionSevering']\n",
    "other_variables = [\"length\", \"minimisation_length\", \"combined_length\"]\n",
    "\n",
    "#'usingElements','noElements', 'onlyAngular', 'distanceHeuristic', 'angularHeuristic', 'regions', 'barriers','distantLandmarks', 'preferenceNatural', 'aversionSevering'\n",
    "# \"minimisation_length\",\"combined_length\"\n",
    "video0 = [col for col in summary if col.startswith('0')]\n",
    "video1 = [col for col in summary if col.startswith('1')]\n",
    "video2 = [col for col in summary if col.startswith('2')]\n",
    "videos = [video0, video1, video2]\n",
    "routes_stats = af.set_routes_stats(summary, survey_routes, videos)"
   ]
  },
  {
   "cell_type": "code",
   "execution_count": 22,
   "metadata": {},
   "outputs": [
    {
     "data": {
      "text/html": [
       "<div>\n",
       "<style scoped>\n",
       "    .dataframe tbody tr th:only-of-type {\n",
       "        vertical-align: middle;\n",
       "    }\n",
       "\n",
       "    .dataframe tbody tr th {\n",
       "        vertical-align: top;\n",
       "    }\n",
       "\n",
       "    .dataframe thead th {\n",
       "        text-align: right;\n",
       "    }\n",
       "</style>\n",
       "<table border=\"1\" class=\"dataframe\">\n",
       "  <thead>\n",
       "    <tr style=\"text-align: right;\">\n",
       "      <th></th>\n",
       "      <th>onlyDistance</th>\n",
       "      <th>onlyAngular</th>\n",
       "      <th>distanceHeuristic</th>\n",
       "      <th>angularHeuristic</th>\n",
       "      <th>regions</th>\n",
       "      <th>routeMarks</th>\n",
       "      <th>barriers</th>\n",
       "      <th>distantLandmarks</th>\n",
       "      <th>usingElements</th>\n",
       "      <th>noElements</th>\n",
       "      <th>length</th>\n",
       "      <th>combined_length</th>\n",
       "      <th>minimisation_length</th>\n",
       "      <th>preferenceNatural</th>\n",
       "      <th>aversionSevering</th>\n",
       "      <th>knowledge</th>\n",
       "    </tr>\n",
       "  </thead>\n",
       "  <tbody>\n",
       "    <tr>\n",
       "      <th>1</th>\n",
       "      <td>1.000</td>\n",
       "      <td>0.000</td>\n",
       "      <td>0.762</td>\n",
       "      <td>0.238</td>\n",
       "      <td>0.000</td>\n",
       "      <td>0.168</td>\n",
       "      <td>0.832</td>\n",
       "      <td>0.000</td>\n",
       "      <td>0.500</td>\n",
       "      <td>0.500</td>\n",
       "      <td>0.007</td>\n",
       "      <td>791.585</td>\n",
       "      <td>791.585</td>\n",
       "      <td>0.000</td>\n",
       "      <td>0.000</td>\n",
       "      <td>0.000</td>\n",
       "    </tr>\n",
       "    <tr>\n",
       "      <th>2</th>\n",
       "      <td>1.000</td>\n",
       "      <td>0.000</td>\n",
       "      <td>0.762</td>\n",
       "      <td>0.238</td>\n",
       "      <td>0.000</td>\n",
       "      <td>0.168</td>\n",
       "      <td>0.832</td>\n",
       "      <td>0.000</td>\n",
       "      <td>0.500</td>\n",
       "      <td>0.500</td>\n",
       "      <td>0.007</td>\n",
       "      <td>791.585</td>\n",
       "      <td>791.585</td>\n",
       "      <td>0.000</td>\n",
       "      <td>0.000</td>\n",
       "      <td>0.000</td>\n",
       "    </tr>\n",
       "    <tr>\n",
       "      <th>3</th>\n",
       "      <td>1.000</td>\n",
       "      <td>0.000</td>\n",
       "      <td>0.762</td>\n",
       "      <td>0.238</td>\n",
       "      <td>0.000</td>\n",
       "      <td>0.168</td>\n",
       "      <td>0.832</td>\n",
       "      <td>0.000</td>\n",
       "      <td>0.500</td>\n",
       "      <td>0.500</td>\n",
       "      <td>0.007</td>\n",
       "      <td>791.585</td>\n",
       "      <td>791.585</td>\n",
       "      <td>0.000</td>\n",
       "      <td>0.000</td>\n",
       "      <td>0.000</td>\n",
       "    </tr>\n",
       "    <tr>\n",
       "      <th>4</th>\n",
       "      <td>1.000</td>\n",
       "      <td>0.000</td>\n",
       "      <td>0.539</td>\n",
       "      <td>0.461</td>\n",
       "      <td>0.000</td>\n",
       "      <td>0.437</td>\n",
       "      <td>0.563</td>\n",
       "      <td>0.000</td>\n",
       "      <td>0.559</td>\n",
       "      <td>0.441</td>\n",
       "      <td>0.007</td>\n",
       "      <td>805.879</td>\n",
       "      <td>469.146</td>\n",
       "      <td>2.000</td>\n",
       "      <td>4.500</td>\n",
       "      <td>4.500</td>\n",
       "    </tr>\n",
       "    <tr>\n",
       "      <th>5</th>\n",
       "      <td>1.000</td>\n",
       "      <td>0.000</td>\n",
       "      <td>0.673</td>\n",
       "      <td>0.327</td>\n",
       "      <td>0.000</td>\n",
       "      <td>0.265</td>\n",
       "      <td>0.735</td>\n",
       "      <td>0.000</td>\n",
       "      <td>0.603</td>\n",
       "      <td>0.397</td>\n",
       "      <td>0.011</td>\n",
       "      <td>1246.210</td>\n",
       "      <td>791.585</td>\n",
       "      <td>5.000</td>\n",
       "      <td>4.500</td>\n",
       "      <td>4.250</td>\n",
       "    </tr>\n",
       "    <tr>\n",
       "      <th>...</th>\n",
       "      <td>...</td>\n",
       "      <td>...</td>\n",
       "      <td>...</td>\n",
       "      <td>...</td>\n",
       "      <td>...</td>\n",
       "      <td>...</td>\n",
       "      <td>...</td>\n",
       "      <td>...</td>\n",
       "      <td>...</td>\n",
       "      <td>...</td>\n",
       "      <td>...</td>\n",
       "      <td>...</td>\n",
       "      <td>...</td>\n",
       "      <td>...</td>\n",
       "      <td>...</td>\n",
       "      <td>...</td>\n",
       "    </tr>\n",
       "    <tr>\n",
       "      <th>64</th>\n",
       "      <td>1.000</td>\n",
       "      <td>0.000</td>\n",
       "      <td>0.762</td>\n",
       "      <td>0.238</td>\n",
       "      <td>0.000</td>\n",
       "      <td>0.168</td>\n",
       "      <td>0.832</td>\n",
       "      <td>0.000</td>\n",
       "      <td>0.500</td>\n",
       "      <td>0.500</td>\n",
       "      <td>0.007</td>\n",
       "      <td>791.585</td>\n",
       "      <td>791.585</td>\n",
       "      <td>4.000</td>\n",
       "      <td>3.500</td>\n",
       "      <td>4.000</td>\n",
       "    </tr>\n",
       "    <tr>\n",
       "      <th>65</th>\n",
       "      <td>1.000</td>\n",
       "      <td>0.000</td>\n",
       "      <td>0.762</td>\n",
       "      <td>0.238</td>\n",
       "      <td>0.000</td>\n",
       "      <td>0.168</td>\n",
       "      <td>0.832</td>\n",
       "      <td>0.000</td>\n",
       "      <td>0.500</td>\n",
       "      <td>0.500</td>\n",
       "      <td>0.007</td>\n",
       "      <td>791.585</td>\n",
       "      <td>791.585</td>\n",
       "      <td>5.000</td>\n",
       "      <td>4.500</td>\n",
       "      <td>3.250</td>\n",
       "    </tr>\n",
       "    <tr>\n",
       "      <th>66</th>\n",
       "      <td>1.000</td>\n",
       "      <td>0.000</td>\n",
       "      <td>0.762</td>\n",
       "      <td>0.238</td>\n",
       "      <td>0.000</td>\n",
       "      <td>0.168</td>\n",
       "      <td>0.832</td>\n",
       "      <td>0.000</td>\n",
       "      <td>0.500</td>\n",
       "      <td>0.500</td>\n",
       "      <td>0.007</td>\n",
       "      <td>791.585</td>\n",
       "      <td>791.585</td>\n",
       "      <td>4.000</td>\n",
       "      <td>4.500</td>\n",
       "      <td>4.500</td>\n",
       "    </tr>\n",
       "    <tr>\n",
       "      <th>67</th>\n",
       "      <td>1.000</td>\n",
       "      <td>0.000</td>\n",
       "      <td>0.762</td>\n",
       "      <td>0.238</td>\n",
       "      <td>0.000</td>\n",
       "      <td>0.168</td>\n",
       "      <td>0.832</td>\n",
       "      <td>0.000</td>\n",
       "      <td>0.500</td>\n",
       "      <td>0.500</td>\n",
       "      <td>0.007</td>\n",
       "      <td>791.585</td>\n",
       "      <td>791.585</td>\n",
       "      <td>0.000</td>\n",
       "      <td>0.000</td>\n",
       "      <td>0.000</td>\n",
       "    </tr>\n",
       "    <tr>\n",
       "      <th>69</th>\n",
       "      <td>1.000</td>\n",
       "      <td>0.000</td>\n",
       "      <td>0.673</td>\n",
       "      <td>0.327</td>\n",
       "      <td>0.000</td>\n",
       "      <td>0.265</td>\n",
       "      <td>0.735</td>\n",
       "      <td>0.000</td>\n",
       "      <td>0.603</td>\n",
       "      <td>0.397</td>\n",
       "      <td>0.011</td>\n",
       "      <td>1246.210</td>\n",
       "      <td>791.585</td>\n",
       "      <td>5.000</td>\n",
       "      <td>4.500</td>\n",
       "      <td>3.000</td>\n",
       "    </tr>\n",
       "  </tbody>\n",
       "</table>\n",
       "<p>68 rows × 16 columns</p>\n",
       "</div>"
      ],
      "text/plain": [
       "   onlyDistance onlyAngular distanceHeuristic angularHeuristic regions  \\\n",
       "1         1.000       0.000             0.762            0.238   0.000   \n",
       "2         1.000       0.000             0.762            0.238   0.000   \n",
       "3         1.000       0.000             0.762            0.238   0.000   \n",
       "4         1.000       0.000             0.539            0.461   0.000   \n",
       "5         1.000       0.000             0.673            0.327   0.000   \n",
       "..          ...         ...               ...              ...     ...   \n",
       "64        1.000       0.000             0.762            0.238   0.000   \n",
       "65        1.000       0.000             0.762            0.238   0.000   \n",
       "66        1.000       0.000             0.762            0.238   0.000   \n",
       "67        1.000       0.000             0.762            0.238   0.000   \n",
       "69        1.000       0.000             0.673            0.327   0.000   \n",
       "\n",
       "   routeMarks barriers distantLandmarks usingElements noElements  length  \\\n",
       "1       0.168    0.832            0.000         0.500      0.500   0.007   \n",
       "2       0.168    0.832            0.000         0.500      0.500   0.007   \n",
       "3       0.168    0.832            0.000         0.500      0.500   0.007   \n",
       "4       0.437    0.563            0.000         0.559      0.441   0.007   \n",
       "5       0.265    0.735            0.000         0.603      0.397   0.011   \n",
       "..        ...      ...              ...           ...        ...     ...   \n",
       "64      0.168    0.832            0.000         0.500      0.500   0.007   \n",
       "65      0.168    0.832            0.000         0.500      0.500   0.007   \n",
       "66      0.168    0.832            0.000         0.500      0.500   0.007   \n",
       "67      0.168    0.832            0.000         0.500      0.500   0.007   \n",
       "69      0.265    0.735            0.000         0.603      0.397   0.011   \n",
       "\n",
       "    combined_length  minimisation_length  preferenceNatural  aversionSevering  \\\n",
       "1           791.585              791.585              0.000             0.000   \n",
       "2           791.585              791.585              0.000             0.000   \n",
       "3           791.585              791.585              0.000             0.000   \n",
       "4           805.879              469.146              2.000             4.500   \n",
       "5          1246.210              791.585              5.000             4.500   \n",
       "..              ...                  ...                ...               ...   \n",
       "64          791.585              791.585              4.000             3.500   \n",
       "65          791.585              791.585              5.000             4.500   \n",
       "66          791.585              791.585              4.000             4.500   \n",
       "67          791.585              791.585              0.000             0.000   \n",
       "69         1246.210              791.585              5.000             4.500   \n",
       "\n",
       "    knowledge  \n",
       "1       0.000  \n",
       "2       0.000  \n",
       "3       0.000  \n",
       "4       4.500  \n",
       "5       4.250  \n",
       "..        ...  \n",
       "64      4.000  \n",
       "65      3.250  \n",
       "66      4.500  \n",
       "67      0.000  \n",
       "69      3.000  \n",
       "\n",
       "[68 rows x 16 columns]"
      ]
     },
     "execution_count": 22,
     "metadata": {},
     "output_type": "execute_result"
    }
   ],
   "source": [
    "## appending variables regarding the preference for natural/severing barriers and spatial knowledge\n",
    "\n",
    "raw.index = raw['id']\n",
    "routes_stats.index.name = None\n",
    "routes_stats['preferenceNatural'] = raw['preferenceNatural']\n",
    "routes_stats['aversionSevering'] = raw['aversionSevering']\n",
    "routes_stats['knowledge'] = raw['knowledge']\n",
    "routes_stats.head(70)"
   ]
  },
  {
   "cell_type": "markdown",
   "metadata": {},
   "source": [
    "#### *Obtaining the input matrix for cluster analysis*"
   ]
  },
  {
   "cell_type": "code",
   "execution_count": 23,
   "metadata": {},
   "outputs": [
    {
     "name": "stdout",
     "output_type": "stream",
     "text": [
      "    usingElements  noElements  distanceHeuristic  routeMarks  barriers  \\\n",
      "1           0.500       0.500              0.381       0.084     0.416   \n",
      "2           0.500       0.500              0.381       0.084     0.416   \n",
      "3           0.500       0.500              0.381       0.084     0.416   \n",
      "4           0.559       0.441              0.301       0.244     0.315   \n",
      "5           0.603       0.397              0.406       0.160     0.443   \n",
      "..            ...         ...                ...         ...       ...   \n",
      "64          0.500       0.500              0.381       0.084     0.416   \n",
      "65          0.500       0.500              0.381       0.084     0.416   \n",
      "66          0.500       0.500              0.381       0.084     0.416   \n",
      "67          0.500       0.500              0.381       0.084     0.416   \n",
      "69          0.603       0.397              0.406       0.160     0.443   \n",
      "\n",
      "    preferenceNatural  aversionSevering  \n",
      "1               0.010             0.010  \n",
      "2               0.010             0.010  \n",
      "3               0.010             0.010  \n",
      "4               2.000             4.500  \n",
      "5               5.000             4.500  \n",
      "..                ...               ...  \n",
      "64              4.000             3.500  \n",
      "65              5.000             4.500  \n",
      "66              4.000             4.500  \n",
      "67              0.010             0.010  \n",
      "69              5.000             4.500  \n",
      "\n",
      "[68 rows x 7 columns]\n"
     ]
    }
   ],
   "source": [
    "input_matrix = routes_stats[route_variables].copy()\n",
    "input_matrix.replace(0.0, 0.01, inplace = True)\n",
    "cluster_variables =  ['distanceHeuristic', 'routeMarks', 'barriers']\n",
    "#'onlyDistance', 'onlyAngular', 'distanceHeuristic', 'angularHeuristic', 'regions', 'routeMarks', 'barriers','distantLandmarks'\n",
    "\n",
    "for column in cluster_variables:\n",
    "    if column in ['onlyDistance', 'onlyAngular']:\n",
    "        input_matrix[column] = input_matrix[column] * input_matrix['noElements'] \n",
    "    else:\n",
    "        input_matrix[column] = input_matrix[column] * input_matrix['usingElements']\n",
    "input_matrix = input_matrix.astype(float)\n",
    "\n",
    "print(input_matrix)"
   ]
  },
  {
   "cell_type": "markdown",
   "metadata": {},
   "source": [
    "### 4.2 Visualising overall importance of each urban element (probabilities)"
   ]
  },
  {
   "cell_type": "code",
   "execution_count": 24,
   "metadata": {},
   "outputs": [
    {
     "data": {
      "image/png": "[encoded data removed]",
      "text/plain": [
       "<Figure size 3000x1200 with 1 Axes>"
      ]
     },
     "metadata": {},
     "output_type": "display_data"
    }
   ],
   "source": [
    "sns.set()\n",
    "sns.set_color_codes()\n",
    "fig, ax = plt.subplots(nrows = 1, ncols = 1, figsize=(30, 12)) \n",
    "\n",
    "## obtaining dataframe for boxplot visualisation\n",
    "tab = pd.DataFrame(columns = ['variable', 'value']) \n",
    "labels = ['Using\\nUrban Elements', 'Only Minimization\\nHeuristic', 'Distance', 'Landmarks', 'Barriers', \n",
    "          'Natural\\nBarriers', 'Severing\\nBarriers']\n",
    "\n",
    "index = 0\n",
    "for subject in input_matrix.index:\n",
    "    for n, variable in enumerate(route_variables):\n",
    "        tab.at[index, 'variable'] = labels[n]\n",
    "        tab.at[index, 'value'] = input_matrix.loc[subject][variable]\n",
    "        index += 1\n",
    "\n",
    "palette = ['blue']*2 + ['red']*8 + ['lime']*2\n",
    "ax = sns.boxplot(x=\"variable\", y=\"value\", data=tab, palette = palette)\n",
    "ax.set_ylim(0.0, 1.01)\n",
    "ax.set_ylabel('', fontsize = 27, labelpad = 30, fontfamily = 'Times New Roman')\n",
    "ax.set_xlabel('', labelpad = 30, fontfamily = 'Times New Roman')\n",
    "\n",
    "for tick in ax.get_yticklabels(): \n",
    "    tick.set_fontname('Times New Roman')\n",
    "for tick in ax.get_xticklabels(): \n",
    "    tick.set_fontname('Times New Roman')\n",
    "    \n",
    "ax.tick_params(axis='both', labelsize= 27, pad = 20)"
   ]
  },
  {
   "cell_type": "code",
   "execution_count": 25,
   "metadata": {},
   "outputs": [],
   "source": [
    "fig.savefig(\"Outputs/Figures/empiricalABM/f4test_69responses.pdf\", bbox_inches='tight')"
   ]
  },
  {
   "cell_type": "code",
   "execution_count": 26,
   "metadata": {},
   "outputs": [
    {
     "name": "stdout",
     "output_type": "stream",
     "text": [
      "['distanceHeuristic', 'routeMarks', 'barriers']\n"
     ]
    },
    {
     "data": {
      "text/html": [
       "<div>\n",
       "<style scoped>\n",
       "    .dataframe tbody tr th:only-of-type {\n",
       "        vertical-align: middle;\n",
       "    }\n",
       "\n",
       "    .dataframe tbody tr th {\n",
       "        vertical-align: top;\n",
       "    }\n",
       "\n",
       "    .dataframe thead th {\n",
       "        text-align: right;\n",
       "    }\n",
       "</style>\n",
       "<table border=\"1\" class=\"dataframe\">\n",
       "  <thead>\n",
       "    <tr style=\"text-align: right;\">\n",
       "      <th></th>\n",
       "      <th>distanceHeuristic</th>\n",
       "      <th>routeMarks</th>\n",
       "      <th>barriers</th>\n",
       "    </tr>\n",
       "  </thead>\n",
       "  <tbody>\n",
       "    <tr>\n",
       "      <th>1</th>\n",
       "      <td>0.381</td>\n",
       "      <td>0.084</td>\n",
       "      <td>0.416</td>\n",
       "    </tr>\n",
       "    <tr>\n",
       "      <th>2</th>\n",
       "      <td>0.381</td>\n",
       "      <td>0.084</td>\n",
       "      <td>0.416</td>\n",
       "    </tr>\n",
       "    <tr>\n",
       "      <th>3</th>\n",
       "      <td>0.381</td>\n",
       "      <td>0.084</td>\n",
       "      <td>0.416</td>\n",
       "    </tr>\n",
       "    <tr>\n",
       "      <th>4</th>\n",
       "      <td>0.301</td>\n",
       "      <td>0.244</td>\n",
       "      <td>0.315</td>\n",
       "    </tr>\n",
       "    <tr>\n",
       "      <th>5</th>\n",
       "      <td>0.406</td>\n",
       "      <td>0.160</td>\n",
       "      <td>0.443</td>\n",
       "    </tr>\n",
       "    <tr>\n",
       "      <th>...</th>\n",
       "      <td>...</td>\n",
       "      <td>...</td>\n",
       "      <td>...</td>\n",
       "    </tr>\n",
       "    <tr>\n",
       "      <th>64</th>\n",
       "      <td>0.381</td>\n",
       "      <td>0.084</td>\n",
       "      <td>0.416</td>\n",
       "    </tr>\n",
       "    <tr>\n",
       "      <th>65</th>\n",
       "      <td>0.381</td>\n",
       "      <td>0.084</td>\n",
       "      <td>0.416</td>\n",
       "    </tr>\n",
       "    <tr>\n",
       "      <th>66</th>\n",
       "      <td>0.381</td>\n",
       "      <td>0.084</td>\n",
       "      <td>0.416</td>\n",
       "    </tr>\n",
       "    <tr>\n",
       "      <th>67</th>\n",
       "      <td>0.381</td>\n",
       "      <td>0.084</td>\n",
       "      <td>0.416</td>\n",
       "    </tr>\n",
       "    <tr>\n",
       "      <th>69</th>\n",
       "      <td>0.406</td>\n",
       "      <td>0.160</td>\n",
       "      <td>0.443</td>\n",
       "    </tr>\n",
       "  </tbody>\n",
       "</table>\n",
       "<p>68 rows × 3 columns</p>\n",
       "</div>"
      ],
      "text/plain": [
       "    distanceHeuristic  routeMarks  barriers\n",
       "1               0.381       0.084     0.416\n",
       "2               0.381       0.084     0.416\n",
       "3               0.381       0.084     0.416\n",
       "4               0.301       0.244     0.315\n",
       "5               0.406       0.160     0.443\n",
       "..                ...         ...       ...\n",
       "64              0.381       0.084     0.416\n",
       "65              0.381       0.084     0.416\n",
       "66              0.381       0.084     0.416\n",
       "67              0.381       0.084     0.416\n",
       "69              0.406       0.160     0.443\n",
       "\n",
       "[68 rows x 3 columns]"
      ]
     },
     "execution_count": 26,
     "metadata": {},
     "output_type": "execute_result"
    }
   ],
   "source": [
    "print(cluster_variables)\n",
    "input_matrix[cluster_variables].mean()\n",
    "input_matrix[cluster_variables]"
   ]
  },
  {
   "cell_type": "code",
   "execution_count": 27,
   "metadata": {},
   "outputs": [
    {
     "data": {
      "text/html": [
       "<div>\n",
       "<style scoped>\n",
       "    .dataframe tbody tr th:only-of-type {\n",
       "        vertical-align: middle;\n",
       "    }\n",
       "\n",
       "    .dataframe tbody tr th {\n",
       "        vertical-align: top;\n",
       "    }\n",
       "\n",
       "    .dataframe thead th {\n",
       "        text-align: right;\n",
       "    }\n",
       "</style>\n",
       "<table border=\"1\" class=\"dataframe\">\n",
       "  <thead>\n",
       "    <tr style=\"text-align: right;\">\n",
       "      <th></th>\n",
       "      <th>distanceHeuristic</th>\n",
       "      <th>routeMarks</th>\n",
       "      <th>barriers</th>\n",
       "    </tr>\n",
       "  </thead>\n",
       "  <tbody>\n",
       "    <tr>\n",
       "      <th>distanceHeuristic</th>\n",
       "      <td>1.000</td>\n",
       "      <td>-0.449</td>\n",
       "      <td>0.986</td>\n",
       "    </tr>\n",
       "    <tr>\n",
       "      <th>routeMarks</th>\n",
       "      <td>-0.449</td>\n",
       "      <td>1.000</td>\n",
       "      <td>-0.562</td>\n",
       "    </tr>\n",
       "    <tr>\n",
       "      <th>barriers</th>\n",
       "      <td>0.986</td>\n",
       "      <td>-0.562</td>\n",
       "      <td>1.000</td>\n",
       "    </tr>\n",
       "  </tbody>\n",
       "</table>\n",
       "</div>"
      ],
      "text/plain": [
       "                   distanceHeuristic  routeMarks  barriers\n",
       "distanceHeuristic              1.000      -0.449     0.986\n",
       "routeMarks                    -0.449       1.000    -0.562\n",
       "barriers                       0.986      -0.562     1.000"
      ]
     },
     "execution_count": 27,
     "metadata": {},
     "output_type": "execute_result"
    }
   ],
   "source": [
    "input_matrix[cluster_variables].corr(method='pearson')"
   ]
  },
  {
   "cell_type": "markdown",
   "metadata": {},
   "source": [
    "## 5. Cluster Analysis\n",
    "### 5.1 Variables transformation"
   ]
  },
  {
   "cell_type": "code",
   "execution_count": 28,
   "metadata": {},
   "outputs": [
    {
     "data": {
      "image/png": "[encoded data removed]",
      "text/plain": [
       "<Figure size 2000x1000 with 3 Axes>"
      ]
     },
     "metadata": {},
     "output_type": "display_data"
    }
   ],
   "source": [
    "#X = input_matrix[cluster_variables].copy()\n",
    "#fig = plt.figure(figsize = (20, 10))\n",
    "#for n, column in enumerate(list(X.columns)):\n",
    "#    ax = fig.add_subplot(2,4,n+1)\n",
    "#    ax = X[column].plot.kde()\n",
    "#    ax.set_title(column)\n",
    "\n",
    "\n",
    "# Assuming input_matrix is a DataFrame and cluster_variables is a list of columns to plot\n",
    "X = input_matrix[cluster_variables].copy()\n",
    "\n",
    "if len(X) > 0 and X.shape[1] > 1:\n",
    "    fig = plt.figure(figsize=(20, 10))\n",
    "    for n, column in enumerate(list(X.columns)):\n",
    "        if len(X[column]) > 1 and len(X[column].unique()) > 1:\n",
    "            ax = fig.add_subplot(2, 4, n + 1)\n",
    "            ax = X[column].plot(kind='kde', ax=ax)\n",
    "            ax.set_title(column)\n",
    "\n",
    "plt.tight_layout()\n",
    "plt.show()"
   ]
  },
  {
   "cell_type": "markdown",
   "metadata": {},
   "source": [
    "#### *Logarithmic transformation and standardisation*"
   ]
  },
  {
   "cell_type": "code",
   "execution_count": 29,
   "metadata": {},
   "outputs": [],
   "source": [
    "X_log = af.log_transf(input_matrix[cluster_variables])\n",
    "X_log_stand = X_log.copy()\n",
    "    \n",
    "for column in X_log.columns:\n",
    "    try:\n",
    "        X_log_stand[column] = af.standardise_column(X_log, column)\n",
    "    except ValueError as e:\n",
    "        print(f\"Error standardizing column {column}: {e}. Skipping...\")"
   ]
  },
  {
   "cell_type": "markdown",
   "metadata": {},
   "source": [
    "### 5.2 Obtaining and comparing different clustered structures obtained with the k-means algorithm"
   ]
  },
  {
   "cell_type": "code",
   "execution_count": 30,
   "metadata": {},
   "outputs": [
    {
     "data": {
      "text/html": [
       "<div>\n",
       "<style scoped>\n",
       "    .dataframe tbody tr th:only-of-type {\n",
       "        vertical-align: middle;\n",
       "    }\n",
       "\n",
       "    .dataframe tbody tr th {\n",
       "        vertical-align: top;\n",
       "    }\n",
       "\n",
       "    .dataframe thead th {\n",
       "        text-align: right;\n",
       "    }\n",
       "</style>\n",
       "<table border=\"1\" class=\"dataframe\">\n",
       "  <thead>\n",
       "    <tr style=\"text-align: right;\">\n",
       "      <th></th>\n",
       "      <th>algorithm</th>\n",
       "      <th>n_clusters</th>\n",
       "      <th>score</th>\n",
       "      <th>clusterer</th>\n",
       "    </tr>\n",
       "  </thead>\n",
       "  <tbody>\n",
       "    <tr>\n",
       "      <th>0</th>\n",
       "      <td>k-means</td>\n",
       "      <td>2</td>\n",
       "      <td>0.858</td>\n",
       "      <td>KMeans(n_clusters=2, n_init=2000)</td>\n",
       "    </tr>\n",
       "    <tr>\n",
       "      <th>5</th>\n",
       "      <td>k-means</td>\n",
       "      <td>7</td>\n",
       "      <td>0.847</td>\n",
       "      <td>KMeans(n_clusters=7, n_init=2000)</td>\n",
       "    </tr>\n",
       "    <tr>\n",
       "      <th>2</th>\n",
       "      <td>k-means</td>\n",
       "      <td>4</td>\n",
       "      <td>0.841</td>\n",
       "      <td>KMeans(n_clusters=4, n_init=2000)</td>\n",
       "    </tr>\n",
       "    <tr>\n",
       "      <th>4</th>\n",
       "      <td>k-means</td>\n",
       "      <td>6</td>\n",
       "      <td>0.834</td>\n",
       "      <td>KMeans(n_clusters=6, n_init=2000)</td>\n",
       "    </tr>\n",
       "    <tr>\n",
       "      <th>3</th>\n",
       "      <td>k-means</td>\n",
       "      <td>5</td>\n",
       "      <td>0.828</td>\n",
       "      <td>KMeans(n_clusters=5, n_init=2000)</td>\n",
       "    </tr>\n",
       "    <tr>\n",
       "      <th>1</th>\n",
       "      <td>k-means</td>\n",
       "      <td>3</td>\n",
       "      <td>0.800</td>\n",
       "      <td>KMeans(n_clusters=3, n_init=2000)</td>\n",
       "    </tr>\n",
       "  </tbody>\n",
       "</table>\n",
       "</div>"
      ],
      "text/plain": [
       "  algorithm  n_clusters  score                          clusterer\n",
       "0   k-means           2  0.858  KMeans(n_clusters=2, n_init=2000)\n",
       "5   k-means           7  0.847  KMeans(n_clusters=7, n_init=2000)\n",
       "2   k-means           4  0.841  KMeans(n_clusters=4, n_init=2000)\n",
       "4   k-means           6  0.834  KMeans(n_clusters=6, n_init=2000)\n",
       "3   k-means           5  0.828  KMeans(n_clusters=5, n_init=2000)\n",
       "1   k-means           3  0.800  KMeans(n_clusters=3, n_init=2000)"
      ]
     },
     "execution_count": 30,
     "metadata": {},
     "output_type": "execute_result"
    }
   ],
   "source": [
    "list_scores = []\n",
    "\n",
    "def pipe_kmeans(X_toFit):\n",
    "\n",
    "    X_tmp = X_toFit.copy()\n",
    "    for n_clusters in range(2, 8):\n",
    "        clusterer = KMeans(n_clusters = n_clusters, n_init = 2000).fit(X_toFit)\n",
    "        labels = clusterer.labels_\n",
    "\n",
    "        score = round(silhouette_score(X_tmp, labels, metric= 'sqeuclidean'), 3)\n",
    "        param_score = {'algorithm': 'k-means', 'n_clusters' : n_clusters, 'score' : score,\n",
    "                       'clusterer' : clusterer}\n",
    "        list_scores.append(param_score)\n",
    "\n",
    "pipe_kmeans(X_log_stand)\n",
    "clustering = pd.DataFrame(list_scores)\n",
    "clustering.sort_values(by = 'score', ascending = False)"
   ]
  },
  {
   "cell_type": "code",
   "execution_count": 31,
   "metadata": {},
   "outputs": [],
   "source": [
    "#def pipe_kmeans_VCR(X):\n",
    "\n",
    "#    VRCs = []\n",
    "#    X_tmp = X.copy()\n",
    "#    X_toFit = X.copy()\n",
    "    \n",
    "#    for n_clusters in range(2, 11):\n",
    "        \n",
    "#        clusterer = KMeans(n_clusters = n_clusters, n_init = 2000).fit(X_toFit)\n",
    "#        X_tmp['cluster'] = clusterer.labels_\n",
    "\n",
    "#        f = 0.0\n",
    "#        for var in cluster_variables:\n",
    "#            arrays = []\n",
    "#            for cluster in list(X_tmp['cluster'].unique()):\n",
    "#                arrays.append(X_tmp[var+'_log'][X_tmp.cluster == cluster])\n",
    "            \n",
    "#            if n_clusters == 2:\n",
    "#                statistic = f_oneway(np.array(arrays[0]), np.array(arrays[1])).statistic\n",
    "#            if n_clusters == 3:\n",
    "#                statistic = f_oneway(np.array(arrays[0]), np.array(arrays[1]), np.array(arrays[2])).statistic\n",
    "#            if n_clusters == 4:\n",
    "#                statistic = f_oneway(np.array(arrays[0]), np.array(arrays[1]), np.array(arrays[2]), \n",
    "#                                     np.array(arrays[3])).statistic\n",
    "#            if n_clusters == 5:\n",
    "#                statistic = f_oneway(np.array(arrays[0]), np.array(arrays[1]), np.array(arrays[2]), np.array(arrays[3]), \n",
    "#                          np.array(arrays[4])).statistic\n",
    "#            if n_clusters == 6:\n",
    "#                statistic = f_oneway(np.array(arrays[0]), np.array(arrays[1]), np.array(arrays[2]), np.array(arrays[3]), \n",
    "#                          np.array(arrays[4]),np.array(arrays[5])).statistic\n",
    "#            if n_clusters == 7:\n",
    "#                statistic = f_oneway(np.array(arrays[0]), np.array(arrays[1]), np.array(arrays[2]), np.array(arrays[3]), \n",
    "#                          np.array(arrays[4]),np.array(arrays[5]),np.array(arrays[6])).statistic\n",
    "#            if n_clusters == 8:\n",
    "#                statistic = f_oneway(np.array(arrays[0]), np.array(arrays[1]), np.array(arrays[2]), np.array(arrays[3]), \n",
    "#                          np.array(arrays[4]), np.array(arrays[5]), np.array(arrays[6]), np.array(arrays[7])).statistic\n",
    "#            if n_clusters == 9:\n",
    "#                statistic = f_oneway(np.array(arrays[0]), np.array(arrays[1]), np.array(arrays[2]), np.array(arrays[3]), \n",
    "#                          np.array(arrays[4]),np.array(arrays[5]), np.array(arrays[6]), np.array(arrays[7]), np.array(arrays[8])\n",
    "#                                    ).statistic\n",
    "#            if n_clusters == 10:\n",
    "#                statistic = f_oneway(np.array(arrays[0]), np.array(arrays[1]), np.array(arrays[2]), np.array(arrays[3]), \n",
    "#                          np.array(arrays[4]), np.array(arrays[5]), np.array(arrays[6]), np.array(arrays[7]), \n",
    "#                                     np.array(arrays[8]), np.array(arrays[9])).statistic\n",
    "            \n",
    "#            f += statistic\n",
    "#        VRCs.append(f)   \n",
    "#    return VRCs\n",
    "\n",
    "#VRCs = pipe_kmeans_VCR(X_log_stand)\n",
    "\n",
    "def pipe_kmeans_VCR(X):\n",
    "\n",
    "    VRCs = []\n",
    "    X_tmp = X.copy()\n",
    "    X_toFit = X.copy()\n",
    "    \n",
    "    for n_clusters in range(2, 9):\n",
    "        \n",
    "        clusterer = KMeans(n_clusters = n_clusters, n_init = 2000).fit(X_toFit)\n",
    "        X_tmp['cluster'] = clusterer.labels_\n",
    "\n",
    "        f = 0.0\n",
    "        for var in cluster_variables:\n",
    "            arrays = []\n",
    "            for cluster in list(X_tmp['cluster'].unique()):\n",
    "                arrays.append(X_tmp[var+'_log'][X_tmp.cluster == cluster])\n",
    "            \n",
    "            if n_clusters == 2:\n",
    "                statistic = f_oneway(np.array(arrays[0]), np.array(arrays[1])).statistic\n",
    "            if n_clusters == 3:\n",
    "                statistic = f_oneway(np.array(arrays[0]), np.array(arrays[1]), np.array(arrays[2])).statistic\n",
    "            if n_clusters == 4:\n",
    "                statistic = f_oneway(np.array(arrays[0]), np.array(arrays[1]), np.array(arrays[2]), \n",
    "                                     np.array(arrays[3])).statistic\n",
    "            if n_clusters == 5:\n",
    "                statistic = f_oneway(np.array(arrays[0]), np.array(arrays[1]), np.array(arrays[2]), np.array(arrays[3]), \n",
    "                          np.array(arrays[4])).statistic\n",
    "            if n_clusters == 6:\n",
    "                statistic = f_oneway(np.array(arrays[0]), np.array(arrays[1]), np.array(arrays[2]), np.array(arrays[3]), \n",
    "                          np.array(arrays[4]),np.array(arrays[5])).statistic\n",
    "            if n_clusters == 7:\n",
    "                statistic = f_oneway(np.array(arrays[0]), np.array(arrays[1]), np.array(arrays[2]), np.array(arrays[3]), \n",
    "                          np.array(arrays[4]),np.array(arrays[5]),np.array(arrays[6])).statistic\n",
    "            if n_clusters == 8:\n",
    "                statistic = f_oneway(np.array(arrays[0]), np.array(arrays[1]), np.array(arrays[2]), np.array(arrays[3]), \n",
    "                          np.array(arrays[4]), np.array(arrays[5]), np.array(arrays[6]), np.array(arrays[7])).statistic\n",
    "            f += statistic\n",
    "        VRCs.append(f)   \n",
    "    return VRCs\n",
    "\n",
    "VRCs = pipe_kmeans_VCR(X_log_stand)"
   ]
  },
  {
   "cell_type": "markdown",
   "metadata": {},
   "source": [
    "### 5.3 Choosing the best structure"
   ]
  },
  {
   "cell_type": "code",
   "execution_count": 32,
   "metadata": {},
   "outputs": [
    {
     "name": "stdout",
     "output_type": "stream",
     "text": [
      "Clusters\tOmega\t\t\tVRC\n",
      "3\t\t551.258\t\t\t549.06\n",
      "4\t\t-218.834\t\t\t896.749\n",
      "5\t\t257.002\t\t\t1025.605\n",
      "6\t\t-576.562\t\t\t1411.464\n",
      "7\t\t785.316\t\t\t1220.76\n"
     ]
    }
   ],
   "source": [
    "print(\"Clusters\\tOmega\\t\\t\\tVRC\")\n",
    "for n, VRC in enumerate(VRCs):\n",
    "    if (n == 0) | (n == len(VRCs)-1):\n",
    "        continue\n",
    "    index = (VRCs[n+1]-VRC)-(VRC-VRCs[n-1])\n",
    "    print(f\"{n+2}\\t\\t{round(index, 3)}\\t\\t\\t{round(VRC, 3)}\")"
   ]
  },
  {
   "cell_type": "code",
   "execution_count": 33,
   "metadata": {},
   "outputs": [],
   "source": [
    "chosen = clustering.loc[1]\n",
    "labels_cluster = np.array(chosen.clusterer.labels_.copy())\n",
    "labels_cluster += 1"
   ]
  },
  {
   "cell_type": "code",
   "execution_count": 34,
   "metadata": {},
   "outputs": [],
   "source": [
    "input_with_cluster = input_matrix.copy()\n",
    "input_with_cluster['cluster'] = labels_cluster"
   ]
  },
  {
   "cell_type": "markdown",
   "metadata": {},
   "source": [
    "### 5.4 Examining the chosen partition"
   ]
  },
  {
   "cell_type": "code",
   "execution_count": 35,
   "metadata": {},
   "outputs": [
    {
     "data": {
      "text/html": [
       "<div>\n",
       "<style scoped>\n",
       "    .dataframe tbody tr th:only-of-type {\n",
       "        vertical-align: middle;\n",
       "    }\n",
       "\n",
       "    .dataframe tbody tr th {\n",
       "        vertical-align: top;\n",
       "    }\n",
       "\n",
       "    .dataframe thead th {\n",
       "        text-align: right;\n",
       "    }\n",
       "</style>\n",
       "<table border=\"1\" class=\"dataframe\">\n",
       "  <thead>\n",
       "    <tr style=\"text-align: right;\">\n",
       "      <th></th>\n",
       "      <th>usingElements</th>\n",
       "      <th>noElements</th>\n",
       "      <th>distanceHeuristic</th>\n",
       "      <th>routeMarks</th>\n",
       "      <th>barriers</th>\n",
       "      <th>preferenceNatural</th>\n",
       "      <th>aversionSevering</th>\n",
       "      <th>knowledge</th>\n",
       "    </tr>\n",
       "    <tr>\n",
       "      <th>cluster</th>\n",
       "      <th></th>\n",
       "      <th></th>\n",
       "      <th></th>\n",
       "      <th></th>\n",
       "      <th></th>\n",
       "      <th></th>\n",
       "      <th></th>\n",
       "      <th></th>\n",
       "    </tr>\n",
       "  </thead>\n",
       "  <tbody>\n",
       "    <tr>\n",
       "      <th>1</th>\n",
       "      <td>0.652</td>\n",
       "      <td>0.348</td>\n",
       "      <td>0.385</td>\n",
       "      <td>0.241</td>\n",
       "      <td>0.411</td>\n",
       "      <td>3.385</td>\n",
       "      <td>3.155</td>\n",
       "      <td>3.346</td>\n",
       "    </tr>\n",
       "    <tr>\n",
       "      <th>2</th>\n",
       "      <td>0.527</td>\n",
       "      <td>0.473</td>\n",
       "      <td>0.276</td>\n",
       "      <td>0.248</td>\n",
       "      <td>0.279</td>\n",
       "      <td>3.274</td>\n",
       "      <td>3.137</td>\n",
       "      <td>3.045</td>\n",
       "    </tr>\n",
       "    <tr>\n",
       "      <th>3</th>\n",
       "      <td>0.505</td>\n",
       "      <td>0.495</td>\n",
       "      <td>0.382</td>\n",
       "      <td>0.090</td>\n",
       "      <td>0.415</td>\n",
       "      <td>3.728</td>\n",
       "      <td>3.524</td>\n",
       "      <td>3.375</td>\n",
       "    </tr>\n",
       "  </tbody>\n",
       "</table>\n",
       "</div>"
      ],
      "text/plain": [
       "         usingElements  noElements  distanceHeuristic  routeMarks  barriers  \\\n",
       "cluster                                                                       \n",
       "1                0.652       0.348              0.385       0.241     0.411   \n",
       "2                0.527       0.473              0.276       0.248     0.279   \n",
       "3                0.505       0.495              0.382       0.090     0.415   \n",
       "\n",
       "         preferenceNatural  aversionSevering  knowledge  \n",
       "cluster                                                  \n",
       "1                    3.385             3.155      3.346  \n",
       "2                    3.274             3.137      3.045  \n",
       "3                    3.728             3.524      3.375  "
      ]
     },
     "execution_count": 35,
     "metadata": {},
     "output_type": "execute_result"
    }
   ],
   "source": [
    "input_with_cluster['knowledge'] = raw['knowledge']\n",
    "cluster_stats = input_with_cluster.groupby(\"cluster\").mean()\n",
    "cluster_stats"
   ]
  },
  {
   "cell_type": "code",
   "execution_count": 36,
   "metadata": {},
   "outputs": [
    {
     "name": "stdout",
     "output_type": "stream",
     "text": [
      "         usingElements  noElements  distanceHeuristic  routeMarks  barriers  \\\n",
      "cluster                                                                       \n",
      "1                0.652       0.348              0.385       0.241     0.411   \n",
      "2                0.527       0.473              0.276       0.248     0.279   \n",
      "3                0.505       0.495              0.382       0.090     0.415   \n",
      "\n",
      "         preferenceNatural  aversionSevering  knowledge  \n",
      "cluster                                                  \n",
      "1                    3.385             3.155      3.346  \n",
      "2                    3.274             3.137      3.045  \n",
      "3                    3.728             3.524      3.375  \n"
     ]
    },
    {
     "data": {
      "image/png": "[encoded data removed]",
      "text/plain": [
       "<Figure size 2250x2250 with 3 Axes>"
      ]
     },
     "metadata": {},
     "output_type": "display_data"
    }
   ],
   "source": [
    "sns.set()\n",
    "sns.set_color_codes()\n",
    "\n",
    "colors = ['red', 'orange', 'yellow', 'green', 'blue', 'indigo', 'violet', 'pink',\n",
    "         'c', 'black']\n",
    "\n",
    "clusters_stats = input_with_cluster.groupby(by = 'cluster').mean()\n",
    "figsize = (22.5, (15/2*3))\n",
    "fig = plt.figure(figsize = figsize)\n",
    "plot_variables = ['routeMarks', 'barriers', 'distanceHeuristic']\n",
    "cluster_v = np.array(plot_variables)\n",
    "labels = ['Landmarks','Barriers','Distance '] \n",
    "plt.rcParams['font.family'] = 'Times New Roman'\n",
    "to_plot = list(clusters_stats.index)\n",
    "\n",
    "for cluster in to_plot:\n",
    "\n",
    "    if cluster != 'population':\n",
    "        tmp = clusters_stats.loc[cluster, cluster_v].values\n",
    "\n",
    "    angles = np.linspace(0, 2*np.pi, len(labels), endpoint=False)\n",
    "    \n",
    "    # close the plot\n",
    "    tmp = np.concatenate((tmp,[tmp[0]]))\n",
    "    angles = np.concatenate((angles,[angles[0]]))\n",
    "    \n",
    "    if cluster != 'population':\n",
    "        ax = fig.add_subplot(3, 3, cluster, polar = True)\n",
    "        color = colors[cluster-1]\n",
    "    \n",
    "    ax.plot(angles, tmp, '-', color = color, linewidth=2)\n",
    "    ax.fill(angles, tmp, color = color, alpha=0.25)\n",
    "    ax.set_thetagrids((angles * 180/np.pi)[0:len(plot_variables)], labels, fontsize = 15)\n",
    "    ax.yaxis.set_ticks([0.10, 0.20, 0.30, 0.40, 0.50])\n",
    "    ax.tick_params(axis='y', labelsize= 15)\n",
    "    ax.tick_params(axis='x', labelsize= 15, pad = 5)\n",
    "    ax.set_rlabel_position(150)\n",
    "    \n",
    "    if cluster != 'population':\n",
    "        nr = len(input_with_cluster[input_with_cluster.cluster == cluster])\n",
    "        title = \"Cluster \"+str(cluster) + \" (N = \"+str(nr)+\")\"      \n",
    "    ax.set_title(title, va = 'bottom', fontsize = 20, pad = 50, fontfamily = 'Times New Roman')\n",
    "\n",
    "fig.subplots_adjust(wspace=0.20, hspace = 0.60)\n",
    "\n",
    "print(clusters_stats)"
   ]
  },
  {
   "cell_type": "code",
   "execution_count": 37,
   "metadata": {},
   "outputs": [],
   "source": [
    "fig.savefig(\"Outputs/Figures/empiricalABM/f5_69.pdf\", bbox_inches='tight')"
   ]
  },
  {
   "cell_type": "markdown",
   "metadata": {},
   "source": [
    "#### *Spatial skills - Do they explain the variation in the route choice behaviour variables?*"
   ]
  },
  {
   "cell_type": "code",
   "execution_count": 38,
   "metadata": {},
   "outputs": [
    {
     "name": "stdout",
     "output_type": "stream",
     "text": [
      "cluster 1 spatial skills/knowledge mean: 3.346 std: 1.763\n",
      "cluster 2 spatial skills/knowledge mean: 3.045 std: 1.588\n",
      "cluster 3 spatial skills/knowledge mean: 3.375 std: 1.485\n"
     ]
    }
   ],
   "source": [
    "clusters = list(set(labels_cluster))\n",
    "for cluster in clusters:\n",
    "    knowledge = input_with_cluster[input_with_cluster.cluster == cluster]['knowledge']\n",
    "    print(\"cluster\", cluster, \"spatial skills/knowledge mean:\", round(knowledge.mean(), 3), \"std:\", round(knowledge.std(), 3))"
   ]
  },
  {
   "cell_type": "code",
   "execution_count": 39,
   "metadata": {},
   "outputs": [],
   "source": [
    "tab = pd.DataFrame(columns=['cluster', 'variable', 'value']) \n",
    "labels = ['Distance', 'Landmarks', 'Barriers', 'Knowledge']\n",
    "\n",
    "index = 0\n",
    "for subject in input_with_cluster.index:\n",
    "    for n, variable in enumerate(cluster_variables + ['knowledge']):\n",
    "        if n < len(labels):\n",
    "            tab.at[index, 'variable'] = labels[n]\n",
    "        else:\n",
    "            tab.at[index, 'variable'] = 'Unknown'\n",
    "        tab.at[index, 'cluster'] = \"Cluster \" + str(int(input_with_cluster.loc[subject]['cluster']))\n",
    "        tab.at[index, 'value'] = input_with_cluster.loc[subject][variable]\n",
    "        index += 1\n",
    "\n",
    "tab['value'] = tab.value.astype(float)\n",
    "tab.sort_values('cluster', inplace=True)"
   ]
  },
  {
   "cell_type": "code",
   "execution_count": 40,
   "metadata": {},
   "outputs": [
    {
     "name": "stdout",
     "output_type": "stream",
     "text": [
      "The value column does not have at least two unique values for the knowledge variable.\n"
     ]
    }
   ],
   "source": [
    "# Check if the value column has at least two unique values for the knowledge variable\n",
    "if len(tab[tab.variable == 'knowledge']['value'].unique()) < 2:\n",
    "    print(\"The value column does not have at least two unique values for the knowledge variable.\")\n",
    "else:\n",
    "    # Perform the t-test\n",
    "    pin.pairwise_ttests(data=tab[tab.variable == 'knowledge'], dv='value', between='cluster')"
   ]
  },
  {
   "cell_type": "markdown",
   "metadata": {},
   "source": [
    "#### *Demographic characteristics*"
   ]
  },
  {
   "cell_type": "code",
   "execution_count": 41,
   "metadata": {},
   "outputs": [
    {
     "name": "stdout",
     "output_type": "stream",
     "text": [
      "Age\n",
      "cluster\n",
      "1   21.077\n",
      "2   20.818\n",
      "3   21.386\n",
      "Name: age, dtype: float64\n"
     ]
    }
   ],
   "source": [
    "raw['cluster'] = labels_cluster\n",
    "print('Age')\n",
    "cluster_deom_stats = raw.groupby(\"cluster\")['age'].mean()\n",
    "print(cluster_deom_stats)"
   ]
  },
  {
   "cell_type": "code",
   "execution_count": 42,
   "metadata": {},
   "outputs": [
    {
     "name": "stdout",
     "output_type": "stream",
     "text": [
      "Gender\n",
      "cluster 1\n",
      "female 38.5\n",
      "male 61.5\n",
      "\n",
      "cluster 2\n",
      "female 63.6\n",
      "male 27.3\n",
      "prefer not to 9.1\n",
      "\n",
      "cluster 3\n",
      "female 36.4\n",
      "male 54.5\n",
      "non-binary 2.3\n",
      "prefer not to 6.8\n",
      "\n"
     ]
    }
   ],
   "source": [
    "print('Gender')\n",
    "cluster_deom_stats = raw.groupby([\"cluster\", 'sex'])['sex'].count()\n",
    "for cluster in range(1, max(labels_cluster)+1):\n",
    "    print(\"cluster\", cluster)\n",
    "    for gender in list(cluster_deom_stats.loc[cluster].index):\n",
    "        print(gender, round(cluster_deom_stats.loc[cluster][gender]/cluster_deom_stats.loc[cluster].sum() *100, 1))\n",
    "    print()"
   ]
  },
  {
   "cell_type": "markdown",
   "metadata": {},
   "source": [
    "## 6. Final input data for building agent typologies in the ABM"
   ]
  },
  {
   "cell_type": "code",
   "execution_count": 43,
   "metadata": {},
   "outputs": [],
   "source": [
    "columns = []\n",
    "for column in input_with_cluster.columns:\n",
    "    if column in ['knowledge', 'cluster']:\n",
    "        continue\n",
    "    columns.append(column+\"_mean\")\n",
    "    columns.append(column+\"_std\")\n",
    "    \n",
    "groups = ['GROUP'+str(cluster) for cluster in input_with_cluster['cluster'].unique()]\n",
    "indexes = groups + ['POPULATION', 'NULLGROUP']\n",
    "clusters_gdf = pd.DataFrame(index = indexes, columns = columns)\n",
    "variables = route_variables\n",
    "\n",
    "\n",
    "clusters = input_with_cluster['cluster'].unique()\n",
    "for index in indexes:\n",
    "    for variable in variables:\n",
    "        if index not in ['POPULATION', 'NULLGROUP']:\n",
    "            cluster = int(index[5:])\n",
    "            clusters_gdf.at[index, variable+'_mean'] = input_with_cluster[input_with_cluster.cluster == cluster][variable].mean()\n",
    "            clusters_gdf.at[index, variable+'_std'] = input_with_cluster[input_with_cluster.cluster == cluster][variable].std()\n",
    "        else:\n",
    "            clusters_gdf.at[index, variable+'_mean'] = input_with_cluster[variable].mean()\n",
    "            clusters_gdf.at[index, variable+'_std'] = input_with_cluster[variable].std()\n",
    "    \n",
    "    if index not in ['POPULATION', 'NULLGROUP']:\n",
    "        cluster = int(index[5:])\n",
    "        clusters_gdf.at[index, 'portion'] = len(input_with_cluster[input_with_cluster.cluster == cluster])/len(input_with_cluster)\n",
    "    else:\n",
    "        clusters_gdf.at[index, 'portion'] = 1.00"
   ]
  },
  {
   "cell_type": "code",
   "execution_count": 44,
   "metadata": {},
   "outputs": [
    {
     "data": {
      "text/html": [
       "<div>\n",
       "<style scoped>\n",
       "    .dataframe tbody tr th:only-of-type {\n",
       "        vertical-align: middle;\n",
       "    }\n",
       "\n",
       "    .dataframe tbody tr th {\n",
       "        vertical-align: top;\n",
       "    }\n",
       "\n",
       "    .dataframe thead th {\n",
       "        text-align: right;\n",
       "    }\n",
       "</style>\n",
       "<table border=\"1\" class=\"dataframe\">\n",
       "  <thead>\n",
       "    <tr style=\"text-align: right;\">\n",
       "      <th></th>\n",
       "      <th>usingElements_mean</th>\n",
       "      <th>usingElements_std</th>\n",
       "      <th>noElements_mean</th>\n",
       "      <th>noElements_std</th>\n",
       "      <th>distanceHeuristic_mean</th>\n",
       "      <th>distanceHeuristic_std</th>\n",
       "      <th>routeMarks_mean</th>\n",
       "      <th>routeMarks_std</th>\n",
       "      <th>barriers_mean</th>\n",
       "      <th>barriers_std</th>\n",
       "      <th>preferenceNatural_mean</th>\n",
       "      <th>preferenceNatural_std</th>\n",
       "      <th>aversionSevering_mean</th>\n",
       "      <th>aversionSevering_std</th>\n",
       "      <th>portion</th>\n",
       "    </tr>\n",
       "  </thead>\n",
       "  <tbody>\n",
       "    <tr>\n",
       "      <th>GROUP3</th>\n",
       "      <td>0.505</td>\n",
       "      <td>0.015</td>\n",
       "      <td>0.495</td>\n",
       "      <td>0.015</td>\n",
       "      <td>0.382</td>\n",
       "      <td>0.010</td>\n",
       "      <td>0.090</td>\n",
       "      <td>0.013</td>\n",
       "      <td>0.415</td>\n",
       "      <td>0.012</td>\n",
       "      <td>3.728</td>\n",
       "      <td>1.385</td>\n",
       "      <td>3.524</td>\n",
       "      <td>1.357</td>\n",
       "      <td>0.647</td>\n",
       "    </tr>\n",
       "    <tr>\n",
       "      <th>GROUP2</th>\n",
       "      <td>0.527</td>\n",
       "      <td>0.049</td>\n",
       "      <td>0.473</td>\n",
       "      <td>0.049</td>\n",
       "      <td>0.276</td>\n",
       "      <td>0.029</td>\n",
       "      <td>0.248</td>\n",
       "      <td>0.040</td>\n",
       "      <td>0.279</td>\n",
       "      <td>0.033</td>\n",
       "      <td>3.274</td>\n",
       "      <td>1.616</td>\n",
       "      <td>3.137</td>\n",
       "      <td>1.396</td>\n",
       "      <td>0.162</td>\n",
       "    </tr>\n",
       "    <tr>\n",
       "      <th>GROUP1</th>\n",
       "      <td>0.652</td>\n",
       "      <td>0.086</td>\n",
       "      <td>0.348</td>\n",
       "      <td>0.086</td>\n",
       "      <td>0.385</td>\n",
       "      <td>0.026</td>\n",
       "      <td>0.241</td>\n",
       "      <td>0.091</td>\n",
       "      <td>0.411</td>\n",
       "      <td>0.031</td>\n",
       "      <td>3.385</td>\n",
       "      <td>1.500</td>\n",
       "      <td>3.155</td>\n",
       "      <td>1.212</td>\n",
       "      <td>0.191</td>\n",
       "    </tr>\n",
       "    <tr>\n",
       "      <th>POPULATION</th>\n",
       "      <td>0.537</td>\n",
       "      <td>0.071</td>\n",
       "      <td>0.463</td>\n",
       "      <td>0.071</td>\n",
       "      <td>0.365</td>\n",
       "      <td>0.044</td>\n",
       "      <td>0.145</td>\n",
       "      <td>0.086</td>\n",
       "      <td>0.392</td>\n",
       "      <td>0.054</td>\n",
       "      <td>3.589</td>\n",
       "      <td>1.435</td>\n",
       "      <td>3.391</td>\n",
       "      <td>1.330</td>\n",
       "      <td>1.000</td>\n",
       "    </tr>\n",
       "    <tr>\n",
       "      <th>NULLGROUP</th>\n",
       "      <td>0.537</td>\n",
       "      <td>0.071</td>\n",
       "      <td>0.463</td>\n",
       "      <td>0.071</td>\n",
       "      <td>0.365</td>\n",
       "      <td>0.044</td>\n",
       "      <td>0.145</td>\n",
       "      <td>0.086</td>\n",
       "      <td>0.392</td>\n",
       "      <td>0.054</td>\n",
       "      <td>3.589</td>\n",
       "      <td>1.435</td>\n",
       "      <td>3.391</td>\n",
       "      <td>1.330</td>\n",
       "      <td>1.000</td>\n",
       "    </tr>\n",
       "  </tbody>\n",
       "</table>\n",
       "</div>"
      ],
      "text/plain": [
       "           usingElements_mean usingElements_std noElements_mean  \\\n",
       "GROUP3                  0.505             0.015           0.495   \n",
       "GROUP2                  0.527             0.049           0.473   \n",
       "GROUP1                  0.652             0.086           0.348   \n",
       "POPULATION              0.537             0.071           0.463   \n",
       "NULLGROUP               0.537             0.071           0.463   \n",
       "\n",
       "           noElements_std distanceHeuristic_mean distanceHeuristic_std  \\\n",
       "GROUP3              0.015                  0.382                 0.010   \n",
       "GROUP2              0.049                  0.276                 0.029   \n",
       "GROUP1              0.086                  0.385                 0.026   \n",
       "POPULATION          0.071                  0.365                 0.044   \n",
       "NULLGROUP           0.071                  0.365                 0.044   \n",
       "\n",
       "           routeMarks_mean routeMarks_std barriers_mean barriers_std  \\\n",
       "GROUP3               0.090          0.013         0.415        0.012   \n",
       "GROUP2               0.248          0.040         0.279        0.033   \n",
       "GROUP1               0.241          0.091         0.411        0.031   \n",
       "POPULATION           0.145          0.086         0.392        0.054   \n",
       "NULLGROUP            0.145          0.086         0.392        0.054   \n",
       "\n",
       "           preferenceNatural_mean preferenceNatural_std aversionSevering_mean  \\\n",
       "GROUP3                      3.728                 1.385                 3.524   \n",
       "GROUP2                      3.274                 1.616                 3.137   \n",
       "GROUP1                      3.385                 1.500                 3.155   \n",
       "POPULATION                  3.589                 1.435                 3.391   \n",
       "NULLGROUP                   3.589                 1.435                 3.391   \n",
       "\n",
       "           aversionSevering_std  portion  \n",
       "GROUP3                    1.357    0.647  \n",
       "GROUP2                    1.396    0.162  \n",
       "GROUP1                    1.212    0.191  \n",
       "POPULATION                1.330    1.000  \n",
       "NULLGROUP                 1.330    1.000  "
      ]
     },
     "execution_count": 44,
     "metadata": {},
     "output_type": "execute_result"
    }
   ],
   "source": [
    "clusters_gdf"
   ]
  },
  {
   "cell_type": "code",
   "execution_count": 45,
   "metadata": {},
   "outputs": [],
   "source": [
    "## exporting the files \n",
    "clusters_gdf.to_csv('Outputs/empiricalABM/clusters_71.csv') ## this is imported into the ABM\n",
    "routes_stats.to_csv('Outputs/empiricalABM/routes_stats_71.csv')"
   ]
  },
  {
   "cell_type": "code",
   "execution_count": null,
   "metadata": {},
   "outputs": [],
   "source": []
  }
 ],
 "metadata": {
  "kernelspec": {
   "display_name": "Python 3 (ipykernel)",
   "language": "python",
   "name": "python3"
  },
  "language_info": {
   "codemirror_mode": {
    "name": "ipython",
    "version": 3
   },
   "file_extension": ".py",
   "mimetype": "text/x-python",
   "name": "python",
   "nbconvert_exporter": "python",
   "pygments_lexer": "ipython3",
   "version": "3.10.13"
  }
 },
 "nbformat": 4,
 "nbformat_minor": 4
}
